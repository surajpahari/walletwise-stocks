{
 "cells": [
  {
   "cell_type": "code",
   "execution_count": 4,
   "id": "b20ee591-a59f-4020-a032-5a7b08c8e991",
   "metadata": {},
   "outputs": [],
   "source": [
    "import pandas_datareader as pdr\n",
    "import pandas as pd\n",
    "key=\"\"\n"
   ]
  },
  {
   "cell_type": "code",
   "execution_count": 7,
   "id": "62c01a9c-56a7-4088-ad41-6e96dc4372f4",
   "metadata": {},
   "outputs": [],
   "source": [
    "file_path = \"../scripts/data/PFL.csv\"\n",
    "df = pd.read_csv(file_path)"
   ]
  },
  {
   "cell_type": "code",
   "execution_count": 8,
   "id": "cb656901-2087-4eba-9d4d-4ca6f443db6d",
   "metadata": {},
   "outputs": [
    {
     "data": {
      "text/html": [
       "<div>\n",
       "<style scoped>\n",
       "    .dataframe tbody tr th:only-of-type {\n",
       "        vertical-align: middle;\n",
       "    }\n",
       "\n",
       "    .dataframe tbody tr th {\n",
       "        vertical-align: top;\n",
       "    }\n",
       "\n",
       "    .dataframe thead th {\n",
       "        text-align: right;\n",
       "    }\n",
       "</style>\n",
       "<table border=\"1\" class=\"dataframe\">\n",
       "  <thead>\n",
       "    <tr style=\"text-align: right;\">\n",
       "      <th></th>\n",
       "      <th>published_date</th>\n",
       "      <th>open</th>\n",
       "      <th>high</th>\n",
       "      <th>low</th>\n",
       "      <th>close</th>\n",
       "      <th>per_change</th>\n",
       "      <th>traded_quantity</th>\n",
       "      <th>traded_amount</th>\n",
       "      <th>status</th>\n",
       "    </tr>\n",
       "  </thead>\n",
       "  <tbody>\n",
       "    <tr>\n",
       "      <th>0</th>\n",
       "      <td>2013-06-18</td>\n",
       "      <td>98.0</td>\n",
       "      <td>97.0</td>\n",
       "      <td>96.0</td>\n",
       "      <td>96.0</td>\n",
       "      <td>NaN</td>\n",
       "      <td>20.0</td>\n",
       "      <td>1930.0</td>\n",
       "      <td>0</td>\n",
       "    </tr>\n",
       "    <tr>\n",
       "      <th>1</th>\n",
       "      <td>2013-07-01</td>\n",
       "      <td>96.0</td>\n",
       "      <td>95.0</td>\n",
       "      <td>92.0</td>\n",
       "      <td>92.0</td>\n",
       "      <td>-4.17</td>\n",
       "      <td>132.0</td>\n",
       "      <td>12316.0</td>\n",
       "      <td>0</td>\n",
       "    </tr>\n",
       "    <tr>\n",
       "      <th>2</th>\n",
       "      <td>2013-07-17</td>\n",
       "      <td>92.0</td>\n",
       "      <td>91.0</td>\n",
       "      <td>91.0</td>\n",
       "      <td>91.0</td>\n",
       "      <td>-1.09</td>\n",
       "      <td>60.0</td>\n",
       "      <td>5460.0</td>\n",
       "      <td>0</td>\n",
       "    </tr>\n",
       "    <tr>\n",
       "      <th>3</th>\n",
       "      <td>2013-08-01</td>\n",
       "      <td>91.0</td>\n",
       "      <td>92.0</td>\n",
       "      <td>92.0</td>\n",
       "      <td>92.0</td>\n",
       "      <td>1.10</td>\n",
       "      <td>50.0</td>\n",
       "      <td>4600.0</td>\n",
       "      <td>0</td>\n",
       "    </tr>\n",
       "    <tr>\n",
       "      <th>4</th>\n",
       "      <td>2013-08-07</td>\n",
       "      <td>92.0</td>\n",
       "      <td>93.0</td>\n",
       "      <td>93.0</td>\n",
       "      <td>93.0</td>\n",
       "      <td>1.09</td>\n",
       "      <td>202.0</td>\n",
       "      <td>18786.0</td>\n",
       "      <td>0</td>\n",
       "    </tr>\n",
       "  </tbody>\n",
       "</table>\n",
       "</div>"
      ],
      "text/plain": [
       "  published_date  open  high   low  close  per_change  traded_quantity  \\\n",
       "0     2013-06-18  98.0  97.0  96.0   96.0         NaN             20.0   \n",
       "1     2013-07-01  96.0  95.0  92.0   92.0       -4.17            132.0   \n",
       "2     2013-07-17  92.0  91.0  91.0   91.0       -1.09             60.0   \n",
       "3     2013-08-01  91.0  92.0  92.0   92.0        1.10             50.0   \n",
       "4     2013-08-07  92.0  93.0  93.0   93.0        1.09            202.0   \n",
       "\n",
       "   traded_amount  status  \n",
       "0         1930.0       0  \n",
       "1        12316.0       0  \n",
       "2         5460.0       0  \n",
       "3         4600.0       0  \n",
       "4        18786.0       0  "
      ]
     },
     "execution_count": 8,
     "metadata": {},
     "output_type": "execute_result"
    }
   ],
   "source": [
    "df.head()"
   ]
  },
  {
   "cell_type": "code",
   "execution_count": 9,
   "id": "faee3bb6-47d0-42f1-8b61-7a350252f7b8",
   "metadata": {},
   "outputs": [
    {
     "data": {
      "text/html": [
       "<div>\n",
       "<style scoped>\n",
       "    .dataframe tbody tr th:only-of-type {\n",
       "        vertical-align: middle;\n",
       "    }\n",
       "\n",
       "    .dataframe tbody tr th {\n",
       "        vertical-align: top;\n",
       "    }\n",
       "\n",
       "    .dataframe thead th {\n",
       "        text-align: right;\n",
       "    }\n",
       "</style>\n",
       "<table border=\"1\" class=\"dataframe\">\n",
       "  <thead>\n",
       "    <tr style=\"text-align: right;\">\n",
       "      <th></th>\n",
       "      <th>published_date</th>\n",
       "      <th>open</th>\n",
       "      <th>high</th>\n",
       "      <th>low</th>\n",
       "      <th>close</th>\n",
       "      <th>per_change</th>\n",
       "      <th>traded_quantity</th>\n",
       "      <th>traded_amount</th>\n",
       "      <th>status</th>\n",
       "    </tr>\n",
       "  </thead>\n",
       "  <tbody>\n",
       "    <tr>\n",
       "      <th>2028</th>\n",
       "      <td>2024-03-03</td>\n",
       "      <td>354.0</td>\n",
       "      <td>356.0</td>\n",
       "      <td>347.0</td>\n",
       "      <td>352.0</td>\n",
       "      <td>-0.56</td>\n",
       "      <td>9659.0</td>\n",
       "      <td>3381456.8</td>\n",
       "      <td>-1</td>\n",
       "    </tr>\n",
       "    <tr>\n",
       "      <th>2029</th>\n",
       "      <td>2024-03-04</td>\n",
       "      <td>359.0</td>\n",
       "      <td>373.4</td>\n",
       "      <td>359.0</td>\n",
       "      <td>373.4</td>\n",
       "      <td>6.08</td>\n",
       "      <td>30.0</td>\n",
       "      <td>10985.0</td>\n",
       "      <td>1</td>\n",
       "    </tr>\n",
       "    <tr>\n",
       "      <th>2030</th>\n",
       "      <td>2024-03-05</td>\n",
       "      <td>380.8</td>\n",
       "      <td>380.8</td>\n",
       "      <td>358.1</td>\n",
       "      <td>358.1</td>\n",
       "      <td>-4.10</td>\n",
       "      <td>8627.0</td>\n",
       "      <td>3178817.5</td>\n",
       "      <td>-1</td>\n",
       "    </tr>\n",
       "    <tr>\n",
       "      <th>2031</th>\n",
       "      <td>2024-03-06</td>\n",
       "      <td>365.2</td>\n",
       "      <td>369.9</td>\n",
       "      <td>353.4</td>\n",
       "      <td>365.8</td>\n",
       "      <td>2.15</td>\n",
       "      <td>8356.0</td>\n",
       "      <td>2992495.2</td>\n",
       "      <td>1</td>\n",
       "    </tr>\n",
       "    <tr>\n",
       "      <th>2032</th>\n",
       "      <td>2024-03-07</td>\n",
       "      <td>373.1</td>\n",
       "      <td>376.7</td>\n",
       "      <td>363.6</td>\n",
       "      <td>364.0</td>\n",
       "      <td>-0.49</td>\n",
       "      <td>5524.0</td>\n",
       "      <td>2018670.9</td>\n",
       "      <td>-1</td>\n",
       "    </tr>\n",
       "  </tbody>\n",
       "</table>\n",
       "</div>"
      ],
      "text/plain": [
       "     published_date   open   high    low  close  per_change  traded_quantity  \\\n",
       "2028     2024-03-03  354.0  356.0  347.0  352.0       -0.56           9659.0   \n",
       "2029     2024-03-04  359.0  373.4  359.0  373.4        6.08             30.0   \n",
       "2030     2024-03-05  380.8  380.8  358.1  358.1       -4.10           8627.0   \n",
       "2031     2024-03-06  365.2  369.9  353.4  365.8        2.15           8356.0   \n",
       "2032     2024-03-07  373.1  376.7  363.6  364.0       -0.49           5524.0   \n",
       "\n",
       "      traded_amount  status  \n",
       "2028      3381456.8      -1  \n",
       "2029        10985.0       1  \n",
       "2030      3178817.5      -1  \n",
       "2031      2992495.2       1  \n",
       "2032      2018670.9      -1  "
      ]
     },
     "execution_count": 9,
     "metadata": {},
     "output_type": "execute_result"
    }
   ],
   "source": [
    "df.tail()"
   ]
  },
  {
   "cell_type": "code",
   "execution_count": 10,
   "id": "01ef5fd7-b25d-44d7-bce1-f901826f2a6c",
   "metadata": {},
   "outputs": [],
   "source": [
    "df1=df.reset_index()['close']"
   ]
  },
  {
   "cell_type": "code",
   "execution_count": 11,
   "id": "bd9f8bcd-b334-4075-8276-dc2992994f0b",
   "metadata": {},
   "outputs": [
    {
     "data": {
      "text/plain": [
       "0        96.0\n",
       "1        92.0\n",
       "2        91.0\n",
       "3        92.0\n",
       "4        93.0\n",
       "        ...  \n",
       "2028    352.0\n",
       "2029    373.4\n",
       "2030    358.1\n",
       "2031    365.8\n",
       "2032    364.0\n",
       "Name: close, Length: 2033, dtype: float64"
      ]
     },
     "execution_count": 11,
     "metadata": {},
     "output_type": "execute_result"
    }
   ],
   "source": [
    "df1"
   ]
  },
  {
   "cell_type": "code",
   "execution_count": 12,
   "id": "1dd765c4-985e-4d9f-9501-707c95c43c2b",
   "metadata": {},
   "outputs": [
    {
     "data": {
      "text/plain": [
       "[<matplotlib.lines.Line2D at 0x7968a0bd69f0>]"
      ]
     },
     "execution_count": 12,
     "metadata": {},
     "output_type": "execute_result"
    },
    {
     "data": {
      "image/png": "[encoded data removed]",
      "text/plain": [
       "<Figure size 640x480 with 1 Axes>"
      ]
     },
     "metadata": {},
     "output_type": "display_data"
    }
   ],
   "source": [
    "import matplotlib.pyplot as plt\n",
    "plt.plot(df1)"
   ]
  },
  {
   "cell_type": "code",
   "execution_count": 13,
   "id": "e26ae853-2c12-4d4c-bfbd-a21adc5eb538",
   "metadata": {},
   "outputs": [],
   "source": [
    "import numpy as np"
   ]
  },
  {
   "cell_type": "code",
   "execution_count": 14,
   "id": "2ae1965f-7e54-46c2-a700-6cf5476d60d1",
   "metadata": {},
   "outputs": [],
   "source": [
    "from sklearn.preprocessing import MinMaxScaler\n",
    "scaler=MinMaxScaler(feature_range=(0,1))\n",
    "df1=scaler.fit_transform(np.array(df1).reshape(-1,1))"
   ]
  },
  {
   "cell_type": "code",
   "execution_count": 15,
   "id": "2ca33c4c-fa90-4273-a313-50dadbb2ac52",
   "metadata": {},
   "outputs": [
    {
     "name": "stdout",
     "output_type": "stream",
     "text": [
      "[[0.00645161]\n",
      " [0.00129032]\n",
      " [0.        ]\n",
      " ...\n",
      " [0.34464516]\n",
      " [0.35458065]\n",
      " [0.35225806]]\n"
     ]
    }
   ],
   "source": [
    "print(df1)\n"
   ]
  },
  {
   "cell_type": "code",
   "execution_count": 16,
   "id": "44abf296-9f2b-4fcf-816e-73024422ed62",
   "metadata": {},
   "outputs": [],
   "source": [
    "training_size=int(len(df1)*0.65)\n",
    "test_size=len(df1)-training_size\n",
    "train_data,test_data=df1[0:training_size,:],df1[training_size:len(df1),:1]"
   ]
  },
  {
   "cell_type": "code",
   "execution_count": 17,
   "id": "43e873db-8c6b-45b8-a2da-7e0c1d6fbd99",
   "metadata": {},
   "outputs": [
    {
     "data": {
      "text/plain": [
       "(1321, 712)"
      ]
     },
     "execution_count": 17,
     "metadata": {},
     "output_type": "execute_result"
    }
   ],
   "source": [
    "training_size,test_size\n"
   ]
  },
  {
   "cell_type": "code",
   "execution_count": 18,
   "id": "c516303f-5699-4069-ad08-5be8e90a6d56",
   "metadata": {},
   "outputs": [],
   "source": [
    "import numpy\n",
    "# convert an array of values into a dataset matrix\n",
    "def create_dataset(dataset, time_step=1):\n",
    "\tdataX, dataY = [], []\n",
    "\tfor i in range(len(dataset)-time_step-1):\n",
    "\t\ta = dataset[i:(i+time_step), 0]   \n",
    "\t\tdataX.append(a)\n",
    "\t\tdataY.append(dataset[i + time_step, 0])\n",
    "\treturn numpy.array(dataX), numpy.array(dataY)"
   ]
  },
  {
   "cell_type": "code",
   "execution_count": 19,
   "id": "c7a1d8cd-fff2-432d-a1f8-b9cb7075224c",
   "metadata": {},
   "outputs": [],
   "source": [
    "\n",
    "# reshape into X=t,t+1,t+2,t+3 and Y=t+4\n",
    "time_step = 100\n",
    "X_train, y_train = create_dataset(train_data, time_step)\n",
    "X_test, ytest = create_dataset(test_data, time_step)"
   ]
  },
  {
   "cell_type": "code",
   "execution_count": 20,
   "id": "4be49d51-7160-4277-b9d1-6fd76007b2e3",
   "metadata": {},
   "outputs": [
    {
     "name": "stdout",
     "output_type": "stream",
     "text": [
      "(1220, 100)\n",
      "(1220,)\n"
     ]
    },
    {
     "data": {
      "text/plain": [
       "(None, None)"
      ]
     },
     "execution_count": 20,
     "metadata": {},
     "output_type": "execute_result"
    }
   ],
   "source": [
    "print(X_train.shape), print(y_train.shape)\n"
   ]
  },
  {
   "cell_type": "code",
   "execution_count": 21,
   "id": "779473c1-604f-43f0-87fa-355425a821d5",
   "metadata": {},
   "outputs": [
    {
     "name": "stdout",
     "output_type": "stream",
     "text": [
      "(611, 100)\n",
      "(611,)\n"
     ]
    },
    {
     "data": {
      "text/plain": [
       "(None, None)"
      ]
     },
     "execution_count": 21,
     "metadata": {},
     "output_type": "execute_result"
    }
   ],
   "source": [
    "print(X_test.shape), print(ytest.shape)\n"
   ]
  },
  {
   "cell_type": "code",
   "execution_count": 22,
   "id": "6bad4d34-5be4-44bf-93d8-e75770175bc9",
   "metadata": {},
   "outputs": [],
   "source": [
    "# reshape input to be [samples, time steps, features] which is required for LSTM\n",
    "X_train =X_train.reshape(X_train.shape[0],X_train.shape[1] , 1)\n",
    "X_test = X_test.reshape(X_test.shape[0],X_test.shape[1] , 1)"
   ]
  },
  {
   "cell_type": "code",
   "execution_count": 23,
   "id": "5f4a93c0-4426-472c-9ce5-fead13d3b451",
   "metadata": {},
   "outputs": [
    {
     "name": "stderr",
     "output_type": "stream",
     "text": [
      "2024-08-23 08:56:44.807106: I external/local_tsl/tsl/cuda/cudart_stub.cc:32] Could not find cuda drivers on your machine, GPU will not be used.\n",
      "2024-08-23 08:56:46.430237: I external/local_tsl/tsl/cuda/cudart_stub.cc:32] Could not find cuda drivers on your machine, GPU will not be used.\n",
      "2024-08-23 08:56:49.450858: I tensorflow/core/platform/cpu_feature_guard.cc:210] This TensorFlow binary is optimized to use available CPU instructions in performance-critical operations.\n",
      "To enable the following instructions: AVX2 FMA, in other operations, rebuild TensorFlow with the appropriate compiler flags.\n",
      "2024-08-23 08:57:01.623524: W tensorflow/compiler/tf2tensorrt/utils/py_utils.cc:38] TF-TRT Warning: Could not find TensorRT\n"
     ]
    }
   ],
   "source": [
    "### Create the Stacked LSTM model\n",
    "from tensorflow.keras.models import Sequential\n",
    "from tensorflow.keras.layers import Dense\n",
    "from tensorflow.keras.layers import LSTM"
   ]
  },
  {
   "cell_type": "code",
   "execution_count": 24,
   "id": "dfe69855-2cbe-458b-90ce-a62dd1e8cd2c",
   "metadata": {},
   "outputs": [
    {
     "name": "stderr",
     "output_type": "stream",
     "text": [
      "/home/zyrex/Documents/programming/walletwise-stocks/wwvenv/lib/python3.12/site-packages/keras/src/layers/rnn/rnn.py:204: UserWarning: Do not pass an `input_shape`/`input_dim` argument to a layer. When using Sequential models, prefer using an `Input(shape)` object as the first layer in the model instead.\n",
      "  super().__init__(**kwargs)\n"
     ]
    }
   ],
   "source": [
    "model=Sequential()\n",
    "model.add(LSTM(50,return_sequences=True,input_shape=(100,1)))\n",
    "model.add(LSTM(50,return_sequences=True))\n",
    "model.add(LSTM(50))\n",
    "model.add(Dense(1))\n",
    "model.compile(loss='mean_squared_error',optimizer='adam')"
   ]
  },
  {
   "cell_type": "code",
   "execution_count": 25,
   "id": "d0bf2aa3-9280-4c91-9647-287f285db6f0",
   "metadata": {},
   "outputs": [
    {
     "data": {
      "text/html": [
       "<pre style=\"white-space:pre;overflow-x:auto;line-height:normal;font-family:Menlo,'DejaVu Sans Mono',consolas,'Courier New',monospace\"><span style=\"font-weight: bold\">Model: \"sequential\"</span>\n",
       "</pre>\n"
      ],
      "text/plain": [
       "\u001b[1mModel: \"sequential\"\u001b[0m\n"
      ]
     },
     "metadata": {},
     "output_type": "display_data"
    },
    {
     "data": {
      "text/html": [
       "<pre style=\"white-space:pre;overflow-x:auto;line-height:normal;font-family:Menlo,'DejaVu Sans Mono',consolas,'Courier New',monospace\">┏━━━━━━━━━━━━━━━━━━━━━━━━━━━━━━━━━┳━━━━━━━━━━━━━━━━━━━━━━━━┳━━━━━━━━━━━━━━━┓\n",
       "┃<span style=\"font-weight: bold\"> Layer (type)                    </span>┃<span style=\"font-weight: bold\"> Output Shape           </span>┃<span style=\"font-weight: bold\">       Param # </span>┃\n",
       "┡━━━━━━━━━━━━━━━━━━━━━━━━━━━━━━━━━╇━━━━━━━━━━━━━━━━━━━━━━━━╇━━━━━━━━━━━━━━━┩\n",
       "│ lstm (<span style=\"color: #0087ff; text-decoration-color: #0087ff\">LSTM</span>)                     │ (<span style=\"color: #00d7ff; text-decoration-color: #00d7ff\">None</span>, <span style=\"color: #00af00; text-decoration-color: #00af00\">100</span>, <span style=\"color: #00af00; text-decoration-color: #00af00\">50</span>)        │        <span style=\"color: #00af00; text-decoration-color: #00af00\">10,400</span> │\n",
       "├─────────────────────────────────┼────────────────────────┼───────────────┤\n",
       "│ lstm_1 (<span style=\"color: #0087ff; text-decoration-color: #0087ff\">LSTM</span>)                   │ (<span style=\"color: #00d7ff; text-decoration-color: #00d7ff\">None</span>, <span style=\"color: #00af00; text-decoration-color: #00af00\">100</span>, <span style=\"color: #00af00; text-decoration-color: #00af00\">50</span>)        │        <span style=\"color: #00af00; text-decoration-color: #00af00\">20,200</span> │\n",
       "├─────────────────────────────────┼────────────────────────┼───────────────┤\n",
       "│ lstm_2 (<span style=\"color: #0087ff; text-decoration-color: #0087ff\">LSTM</span>)                   │ (<span style=\"color: #00d7ff; text-decoration-color: #00d7ff\">None</span>, <span style=\"color: #00af00; text-decoration-color: #00af00\">50</span>)             │        <span style=\"color: #00af00; text-decoration-color: #00af00\">20,200</span> │\n",
       "├─────────────────────────────────┼────────────────────────┼───────────────┤\n",
       "│ dense (<span style=\"color: #0087ff; text-decoration-color: #0087ff\">Dense</span>)                   │ (<span style=\"color: #00d7ff; text-decoration-color: #00d7ff\">None</span>, <span style=\"color: #00af00; text-decoration-color: #00af00\">1</span>)              │            <span style=\"color: #00af00; text-decoration-color: #00af00\">51</span> │\n",
       "└─────────────────────────────────┴────────────────────────┴───────────────┘\n",
       "</pre>\n"
      ],
      "text/plain": [
       "┏━━━━━━━━━━━━━━━━━━━━━━━━━━━━━━━━━┳━━━━━━━━━━━━━━━━━━━━━━━━┳━━━━━━━━━━━━━━━┓\n",
       "┃\u001b[1m \u001b[0m\u001b[1mLayer (type)                   \u001b[0m\u001b[1m \u001b[0m┃\u001b[1m \u001b[0m\u001b[1mOutput Shape          \u001b[0m\u001b[1m \u001b[0m┃\u001b[1m \u001b[0m\u001b[1m      Param #\u001b[0m\u001b[1m \u001b[0m┃\n",
       "┡━━━━━━━━━━━━━━━━━━━━━━━━━━━━━━━━━╇━━━━━━━━━━━━━━━━━━━━━━━━╇━━━━━━━━━━━━━━━┩\n",
       "│ lstm (\u001b[38;5;33mLSTM\u001b[0m)                     │ (\u001b[38;5;45mNone\u001b[0m, \u001b[38;5;34m100\u001b[0m, \u001b[38;5;34m50\u001b[0m)        │        \u001b[38;5;34m10,400\u001b[0m │\n",
       "├─────────────────────────────────┼────────────────────────┼───────────────┤\n",
       "│ lstm_1 (\u001b[38;5;33mLSTM\u001b[0m)                   │ (\u001b[38;5;45mNone\u001b[0m, \u001b[38;5;34m100\u001b[0m, \u001b[38;5;34m50\u001b[0m)        │        \u001b[38;5;34m20,200\u001b[0m │\n",
       "├─────────────────────────────────┼────────────────────────┼───────────────┤\n",
       "│ lstm_2 (\u001b[38;5;33mLSTM\u001b[0m)                   │ (\u001b[38;5;45mNone\u001b[0m, \u001b[38;5;34m50\u001b[0m)             │        \u001b[38;5;34m20,200\u001b[0m │\n",
       "├─────────────────────────────────┼────────────────────────┼───────────────┤\n",
       "│ dense (\u001b[38;5;33mDense\u001b[0m)                   │ (\u001b[38;5;45mNone\u001b[0m, \u001b[38;5;34m1\u001b[0m)              │            \u001b[38;5;34m51\u001b[0m │\n",
       "└─────────────────────────────────┴────────────────────────┴───────────────┘\n"
      ]
     },
     "metadata": {},
     "output_type": "display_data"
    },
    {
     "data": {
      "text/html": [
       "<pre style=\"white-space:pre;overflow-x:auto;line-height:normal;font-family:Menlo,'DejaVu Sans Mono',consolas,'Courier New',monospace\"><span style=\"font-weight: bold\"> Total params: </span><span style=\"color: #00af00; text-decoration-color: #00af00\">50,851</span> (198.64 KB)\n",
       "</pre>\n"
      ],
      "text/plain": [
       "\u001b[1m Total params: \u001b[0m\u001b[38;5;34m50,851\u001b[0m (198.64 KB)\n"
      ]
     },
     "metadata": {},
     "output_type": "display_data"
    },
    {
     "data": {
      "text/html": [
       "<pre style=\"white-space:pre;overflow-x:auto;line-height:normal;font-family:Menlo,'DejaVu Sans Mono',consolas,'Courier New',monospace\"><span style=\"font-weight: bold\"> Trainable params: </span><span style=\"color: #00af00; text-decoration-color: #00af00\">50,851</span> (198.64 KB)\n",
       "</pre>\n"
      ],
      "text/plain": [
       "\u001b[1m Trainable params: \u001b[0m\u001b[38;5;34m50,851\u001b[0m (198.64 KB)\n"
      ]
     },
     "metadata": {},
     "output_type": "display_data"
    },
    {
     "data": {
      "text/html": [
       "<pre style=\"white-space:pre;overflow-x:auto;line-height:normal;font-family:Menlo,'DejaVu Sans Mono',consolas,'Courier New',monospace\"><span style=\"font-weight: bold\"> Non-trainable params: </span><span style=\"color: #00af00; text-decoration-color: #00af00\">0</span> (0.00 B)\n",
       "</pre>\n"
      ],
      "text/plain": [
       "\u001b[1m Non-trainable params: \u001b[0m\u001b[38;5;34m0\u001b[0m (0.00 B)\n"
      ]
     },
     "metadata": {},
     "output_type": "display_data"
    }
   ],
   "source": [
    "model.summary()\n"
   ]
  },
  {
   "cell_type": "code",
   "execution_count": 26,
   "id": "2aa47e30-9dac-4983-958a-3c0ca7f1c79a",
   "metadata": {},
   "outputs": [
    {
     "name": "stdout",
     "output_type": "stream",
     "text": [
      "Epoch 1/100\n",
      "\u001b[1m20/20\u001b[0m \u001b[32m━━━━━━━━━━━━━━━━━━━━\u001b[0m\u001b[37m\u001b[0m \u001b[1m43s\u001b[0m 876ms/step - loss: 0.0116 - val_loss: 0.0045\n",
      "Epoch 2/100\n",
      "\u001b[1m20/20\u001b[0m \u001b[32m━━━━━━━━━━━━━━━━━━━━\u001b[0m\u001b[37m\u001b[0m \u001b[1m14s\u001b[0m 716ms/step - loss: 0.0019 - val_loss: 0.0042\n",
      "Epoch 3/100\n",
      "\u001b[1m20/20\u001b[0m \u001b[32m━━━━━━━━━━━━━━━━━━━━\u001b[0m\u001b[37m\u001b[0m \u001b[1m14s\u001b[0m 696ms/step - loss: 0.0011 - val_loss: 0.0027\n",
      "Epoch 4/100\n",
      "\u001b[1m20/20\u001b[0m \u001b[32m━━━━━━━━━━━━━━━━━━━━\u001b[0m\u001b[37m\u001b[0m \u001b[1m14s\u001b[0m 698ms/step - loss: 0.0010 - val_loss: 0.0025\n",
      "Epoch 5/100\n",
      "\u001b[1m20/20\u001b[0m \u001b[32m━━━━━━━━━━━━━━━━━━━━\u001b[0m\u001b[37m\u001b[0m \u001b[1m14s\u001b[0m 707ms/step - loss: 8.4291e-04 - val_loss: 0.0022\n",
      "Epoch 6/100\n",
      "\u001b[1m20/20\u001b[0m \u001b[32m━━━━━━━━━━━━━━━━━━━━\u001b[0m\u001b[37m\u001b[0m \u001b[1m14s\u001b[0m 698ms/step - loss: 7.3671e-04 - val_loss: 0.0018\n",
      "Epoch 7/100\n",
      "\u001b[1m20/20\u001b[0m \u001b[32m━━━━━━━━━━━━━━━━━━━━\u001b[0m\u001b[37m\u001b[0m \u001b[1m14s\u001b[0m 699ms/step - loss: 6.6997e-04 - val_loss: 0.0021\n",
      "Epoch 8/100\n",
      "\u001b[1m20/20\u001b[0m \u001b[32m━━━━━━━━━━━━━━━━━━━━\u001b[0m\u001b[37m\u001b[0m \u001b[1m14s\u001b[0m 697ms/step - loss: 6.1682e-04 - val_loss: 0.0015\n",
      "Epoch 9/100\n",
      "\u001b[1m20/20\u001b[0m \u001b[32m━━━━━━━━━━━━━━━━━━━━\u001b[0m\u001b[37m\u001b[0m \u001b[1m14s\u001b[0m 706ms/step - loss: 5.0915e-04 - val_loss: 0.0021\n",
      "Epoch 10/100\n",
      "\u001b[1m20/20\u001b[0m \u001b[32m━━━━━━━━━━━━━━━━━━━━\u001b[0m\u001b[37m\u001b[0m \u001b[1m14s\u001b[0m 705ms/step - loss: 5.4463e-04 - val_loss: 0.0021\n",
      "Epoch 11/100\n",
      "\u001b[1m20/20\u001b[0m \u001b[32m━━━━━━━━━━━━━━━━━━━━\u001b[0m\u001b[37m\u001b[0m \u001b[1m14s\u001b[0m 710ms/step - loss: 5.0382e-04 - val_loss: 0.0049\n",
      "Epoch 12/100\n",
      "\u001b[1m20/20\u001b[0m \u001b[32m━━━━━━━━━━━━━━━━━━━━\u001b[0m\u001b[37m\u001b[0m \u001b[1m14s\u001b[0m 713ms/step - loss: 6.1853e-04 - val_loss: 0.0134\n",
      "Epoch 13/100\n",
      "\u001b[1m20/20\u001b[0m \u001b[32m━━━━━━━━━━━━━━━━━━━━\u001b[0m\u001b[37m\u001b[0m \u001b[1m14s\u001b[0m 698ms/step - loss: 0.0016 - val_loss: 0.0019\n",
      "Epoch 14/100\n",
      "\u001b[1m20/20\u001b[0m \u001b[32m━━━━━━━━━━━━━━━━━━━━\u001b[0m\u001b[37m\u001b[0m \u001b[1m14s\u001b[0m 699ms/step - loss: 5.7470e-04 - val_loss: 0.0018\n",
      "Epoch 15/100\n",
      "\u001b[1m20/20\u001b[0m \u001b[32m━━━━━━━━━━━━━━━━━━━━\u001b[0m\u001b[37m\u001b[0m \u001b[1m14s\u001b[0m 697ms/step - loss: 4.5530e-04 - val_loss: 0.0035\n",
      "Epoch 16/100\n",
      "\u001b[1m20/20\u001b[0m \u001b[32m━━━━━━━━━━━━━━━━━━━━\u001b[0m\u001b[37m\u001b[0m \u001b[1m14s\u001b[0m 705ms/step - loss: 4.5877e-04 - val_loss: 0.0028\n",
      "Epoch 17/100\n",
      "\u001b[1m20/20\u001b[0m \u001b[32m━━━━━━━━━━━━━━━━━━━━\u001b[0m\u001b[37m\u001b[0m \u001b[1m14s\u001b[0m 703ms/step - loss: 3.6906e-04 - val_loss: 0.0036\n",
      "Epoch 18/100\n",
      "\u001b[1m20/20\u001b[0m \u001b[32m━━━━━━━━━━━━━━━━━━━━\u001b[0m\u001b[37m\u001b[0m \u001b[1m14s\u001b[0m 698ms/step - loss: 4.7750e-04 - val_loss: 0.0033\n",
      "Epoch 19/100\n",
      "\u001b[1m20/20\u001b[0m \u001b[32m━━━━━━━━━━━━━━━━━━━━\u001b[0m\u001b[37m\u001b[0m \u001b[1m14s\u001b[0m 708ms/step - loss: 4.8153e-04 - val_loss: 0.0019\n",
      "Epoch 20/100\n",
      "\u001b[1m20/20\u001b[0m \u001b[32m━━━━━━━━━━━━━━━━━━━━\u001b[0m\u001b[37m\u001b[0m \u001b[1m14s\u001b[0m 699ms/step - loss: 3.6329e-04 - val_loss: 0.0019\n",
      "Epoch 21/100\n",
      "\u001b[1m20/20\u001b[0m \u001b[32m━━━━━━━━━━━━━━━━━━━━\u001b[0m\u001b[37m\u001b[0m \u001b[1m14s\u001b[0m 705ms/step - loss: 5.2059e-04 - val_loss: 0.0016\n",
      "Epoch 22/100\n",
      "\u001b[1m20/20\u001b[0m \u001b[32m━━━━━━━━━━━━━━━━━━━━\u001b[0m\u001b[37m\u001b[0m \u001b[1m14s\u001b[0m 723ms/step - loss: 4.1278e-04 - val_loss: 0.0021\n",
      "Epoch 23/100\n",
      "\u001b[1m20/20\u001b[0m \u001b[32m━━━━━━━━━━━━━━━━━━━━\u001b[0m\u001b[37m\u001b[0m \u001b[1m14s\u001b[0m 698ms/step - loss: 3.9491e-04 - val_loss: 0.0028\n",
      "Epoch 24/100\n",
      "\u001b[1m20/20\u001b[0m \u001b[32m━━━━━━━━━━━━━━━━━━━━\u001b[0m\u001b[37m\u001b[0m \u001b[1m14s\u001b[0m 701ms/step - loss: 3.9128e-04 - val_loss: 0.0027\n",
      "Epoch 25/100\n",
      "\u001b[1m20/20\u001b[0m \u001b[32m━━━━━━━━━━━━━━━━━━━━\u001b[0m\u001b[37m\u001b[0m \u001b[1m15s\u001b[0m 743ms/step - loss: 3.9013e-04 - val_loss: 0.0014\n",
      "Epoch 26/100\n",
      "\u001b[1m20/20\u001b[0m \u001b[32m━━━━━━━━━━━━━━━━━━━━\u001b[0m\u001b[37m\u001b[0m \u001b[1m14s\u001b[0m 707ms/step - loss: 3.9301e-04 - val_loss: 0.0014\n",
      "Epoch 27/100\n",
      "\u001b[1m20/20\u001b[0m \u001b[32m━━━━━━━━━━━━━━━━━━━━\u001b[0m\u001b[37m\u001b[0m \u001b[1m14s\u001b[0m 719ms/step - loss: 3.8497e-04 - val_loss: 0.0012\n",
      "Epoch 28/100\n",
      "\u001b[1m20/20\u001b[0m \u001b[32m━━━━━━━━━━━━━━━━━━━━\u001b[0m\u001b[37m\u001b[0m \u001b[1m14s\u001b[0m 704ms/step - loss: 3.5545e-04 - val_loss: 0.0018\n",
      "Epoch 29/100\n",
      "\u001b[1m20/20\u001b[0m \u001b[32m━━━━━━━━━━━━━━━━━━━━\u001b[0m\u001b[37m\u001b[0m \u001b[1m14s\u001b[0m 705ms/step - loss: 3.5169e-04 - val_loss: 0.0016\n",
      "Epoch 30/100\n",
      "\u001b[1m20/20\u001b[0m \u001b[32m━━━━━━━━━━━━━━━━━━━━\u001b[0m\u001b[37m\u001b[0m \u001b[1m14s\u001b[0m 715ms/step - loss: 3.9445e-04 - val_loss: 0.0020\n",
      "Epoch 31/100\n",
      "\u001b[1m20/20\u001b[0m \u001b[32m━━━━━━━━━━━━━━━━━━━━\u001b[0m\u001b[37m\u001b[0m \u001b[1m14s\u001b[0m 710ms/step - loss: 3.3925e-04 - val_loss: 0.0017\n",
      "Epoch 32/100\n",
      "\u001b[1m20/20\u001b[0m \u001b[32m━━━━━━━━━━━━━━━━━━━━\u001b[0m\u001b[37m\u001b[0m \u001b[1m15s\u001b[0m 725ms/step - loss: 3.1755e-04 - val_loss: 0.0021\n",
      "Epoch 33/100\n",
      "\u001b[1m20/20\u001b[0m \u001b[32m━━━━━━━━━━━━━━━━━━━━\u001b[0m\u001b[37m\u001b[0m \u001b[1m14s\u001b[0m 717ms/step - loss: 3.5013e-04 - val_loss: 0.0016\n",
      "Epoch 34/100\n",
      "\u001b[1m20/20\u001b[0m \u001b[32m━━━━━━━━━━━━━━━━━━━━\u001b[0m\u001b[37m\u001b[0m \u001b[1m14s\u001b[0m 701ms/step - loss: 3.4050e-04 - val_loss: 0.0011\n",
      "Epoch 35/100\n",
      "\u001b[1m20/20\u001b[0m \u001b[32m━━━━━━━━━━━━━━━━━━━━\u001b[0m\u001b[37m\u001b[0m \u001b[1m14s\u001b[0m 707ms/step - loss: 3.5443e-04 - val_loss: 0.0012\n",
      "Epoch 36/100\n",
      "\u001b[1m20/20\u001b[0m \u001b[32m━━━━━━━━━━━━━━━━━━━━\u001b[0m\u001b[37m\u001b[0m \u001b[1m14s\u001b[0m 708ms/step - loss: 4.8766e-04 - val_loss: 0.0011\n",
      "Epoch 37/100\n",
      "\u001b[1m20/20\u001b[0m \u001b[32m━━━━━━━━━━━━━━━━━━━━\u001b[0m\u001b[37m\u001b[0m \u001b[1m14s\u001b[0m 707ms/step - loss: 2.5010e-04 - val_loss: 0.0018\n",
      "Epoch 38/100\n",
      "\u001b[1m20/20\u001b[0m \u001b[32m━━━━━━━━━━━━━━━━━━━━\u001b[0m\u001b[37m\u001b[0m \u001b[1m14s\u001b[0m 704ms/step - loss: 2.4876e-04 - val_loss: 0.0025\n",
      "Epoch 39/100\n",
      "\u001b[1m20/20\u001b[0m \u001b[32m━━━━━━━━━━━━━━━━━━━━\u001b[0m\u001b[37m\u001b[0m \u001b[1m14s\u001b[0m 713ms/step - loss: 2.8429e-04 - val_loss: 0.0013\n",
      "Epoch 40/100\n",
      "\u001b[1m20/20\u001b[0m \u001b[32m━━━━━━━━━━━━━━━━━━━━\u001b[0m\u001b[37m\u001b[0m \u001b[1m14s\u001b[0m 705ms/step - loss: 2.7482e-04 - val_loss: 0.0017\n",
      "Epoch 41/100\n",
      "\u001b[1m20/20\u001b[0m \u001b[32m━━━━━━━━━━━━━━━━━━━━\u001b[0m\u001b[37m\u001b[0m \u001b[1m15s\u001b[0m 778ms/step - loss: 3.3654e-04 - val_loss: 0.0010\n",
      "Epoch 42/100\n",
      "\u001b[1m20/20\u001b[0m \u001b[32m━━━━━━━━━━━━━━━━━━━━\u001b[0m\u001b[37m\u001b[0m \u001b[1m15s\u001b[0m 729ms/step - loss: 3.6059e-04 - val_loss: 9.2188e-04\n",
      "Epoch 43/100\n",
      "\u001b[1m20/20\u001b[0m \u001b[32m━━━━━━━━━━━━━━━━━━━━\u001b[0m\u001b[37m\u001b[0m \u001b[1m13s\u001b[0m 666ms/step - loss: 3.4586e-04 - val_loss: 0.0010\n",
      "Epoch 44/100\n",
      "\u001b[1m20/20\u001b[0m \u001b[32m━━━━━━━━━━━━━━━━━━━━\u001b[0m\u001b[37m\u001b[0m \u001b[1m2s\u001b[0m 91ms/step - loss: 2.5438e-04 - val_loss: 0.0015\n",
      "Epoch 45/100\n",
      "\u001b[1m20/20\u001b[0m \u001b[32m━━━━━━━━━━━━━━━━━━━━\u001b[0m\u001b[37m\u001b[0m \u001b[1m2s\u001b[0m 107ms/step - loss: 2.1188e-04 - val_loss: 0.0017\n",
      "Epoch 46/100\n",
      "\u001b[1m20/20\u001b[0m \u001b[32m━━━━━━━━━━━━━━━━━━━━\u001b[0m\u001b[37m\u001b[0m \u001b[1m2s\u001b[0m 111ms/step - loss: 2.0112e-04 - val_loss: 0.0011\n",
      "Epoch 47/100\n",
      "\u001b[1m20/20\u001b[0m \u001b[32m━━━━━━━━━━━━━━━━━━━━\u001b[0m\u001b[37m\u001b[0m \u001b[1m2s\u001b[0m 92ms/step - loss: 2.1611e-04 - val_loss: 0.0014\n",
      "Epoch 48/100\n",
      "\u001b[1m20/20\u001b[0m \u001b[32m━━━━━━━━━━━━━━━━━━━━\u001b[0m\u001b[37m\u001b[0m \u001b[1m2s\u001b[0m 93ms/step - loss: 2.4672e-04 - val_loss: 0.0012\n",
      "Epoch 49/100\n",
      "\u001b[1m20/20\u001b[0m \u001b[32m━━━━━━━━━━━━━━━━━━━━\u001b[0m\u001b[37m\u001b[0m \u001b[1m2s\u001b[0m 90ms/step - loss: 2.8160e-04 - val_loss: 9.4114e-04\n",
      "Epoch 50/100\n",
      "\u001b[1m20/20\u001b[0m \u001b[32m━━━━━━━━━━━━━━━━━━━━\u001b[0m\u001b[37m\u001b[0m \u001b[1m2s\u001b[0m 111ms/step - loss: 2.3387e-04 - val_loss: 9.0704e-04\n",
      "Epoch 51/100\n",
      "\u001b[1m20/20\u001b[0m \u001b[32m━━━━━━━━━━━━━━━━━━━━\u001b[0m\u001b[37m\u001b[0m \u001b[1m2s\u001b[0m 110ms/step - loss: 3.1482e-04 - val_loss: 0.0012\n",
      "Epoch 52/100\n",
      "\u001b[1m20/20\u001b[0m \u001b[32m━━━━━━━━━━━━━━━━━━━━\u001b[0m\u001b[37m\u001b[0m \u001b[1m2s\u001b[0m 105ms/step - loss: 2.8095e-04 - val_loss: 0.0011\n",
      "Epoch 53/100\n",
      "\u001b[1m20/20\u001b[0m \u001b[32m━━━━━━━━━━━━━━━━━━━━\u001b[0m\u001b[37m\u001b[0m \u001b[1m2s\u001b[0m 102ms/step - loss: 1.6380e-04 - val_loss: 8.9044e-04\n",
      "Epoch 54/100\n",
      "\u001b[1m20/20\u001b[0m \u001b[32m━━━━━━━━━━━━━━━━━━━━\u001b[0m\u001b[37m\u001b[0m \u001b[1m2s\u001b[0m 113ms/step - loss: 2.3475e-04 - val_loss: 0.0022\n",
      "Epoch 55/100\n",
      "\u001b[1m20/20\u001b[0m \u001b[32m━━━━━━━━━━━━━━━━━━━━\u001b[0m\u001b[37m\u001b[0m \u001b[1m2s\u001b[0m 106ms/step - loss: 2.1781e-04 - val_loss: 0.0011\n",
      "Epoch 56/100\n",
      "\u001b[1m20/20\u001b[0m \u001b[32m━━━━━━━━━━━━━━━━━━━━\u001b[0m\u001b[37m\u001b[0m \u001b[1m2s\u001b[0m 106ms/step - loss: 2.2069e-04 - val_loss: 8.4551e-04\n",
      "Epoch 57/100\n",
      "\u001b[1m20/20\u001b[0m \u001b[32m━━━━━━━━━━━━━━━━━━━━\u001b[0m\u001b[37m\u001b[0m \u001b[1m2s\u001b[0m 114ms/step - loss: 1.8290e-04 - val_loss: 8.8219e-04\n",
      "Epoch 58/100\n",
      "\u001b[1m20/20\u001b[0m \u001b[32m━━━━━━━━━━━━━━━━━━━━\u001b[0m\u001b[37m\u001b[0m \u001b[1m2s\u001b[0m 113ms/step - loss: 2.7684e-04 - val_loss: 9.6032e-04\n",
      "Epoch 59/100\n",
      "\u001b[1m20/20\u001b[0m \u001b[32m━━━━━━━━━━━━━━━━━━━━\u001b[0m\u001b[37m\u001b[0m \u001b[1m2s\u001b[0m 115ms/step - loss: 2.7242e-04 - val_loss: 0.0015\n",
      "Epoch 60/100\n",
      "\u001b[1m20/20\u001b[0m \u001b[32m━━━━━━━━━━━━━━━━━━━━\u001b[0m\u001b[37m\u001b[0m \u001b[1m2s\u001b[0m 116ms/step - loss: 2.7608e-04 - val_loss: 0.0017\n",
      "Epoch 61/100\n",
      "\u001b[1m20/20\u001b[0m \u001b[32m━━━━━━━━━━━━━━━━━━━━\u001b[0m\u001b[37m\u001b[0m \u001b[1m2s\u001b[0m 114ms/step - loss: 2.1026e-04 - val_loss: 0.0021\n",
      "Epoch 62/100\n",
      "\u001b[1m20/20\u001b[0m \u001b[32m━━━━━━━━━━━━━━━━━━━━\u001b[0m\u001b[37m\u001b[0m \u001b[1m2s\u001b[0m 114ms/step - loss: 2.1939e-04 - val_loss: 0.0015\n",
      "Epoch 63/100\n",
      "\u001b[1m20/20\u001b[0m \u001b[32m━━━━━━━━━━━━━━━━━━━━\u001b[0m\u001b[37m\u001b[0m \u001b[1m2s\u001b[0m 116ms/step - loss: 2.0070e-04 - val_loss: 9.7475e-04\n",
      "Epoch 64/100\n",
      "\u001b[1m20/20\u001b[0m \u001b[32m━━━━━━━━━━━━━━━━━━━━\u001b[0m\u001b[37m\u001b[0m \u001b[1m2s\u001b[0m 116ms/step - loss: 2.0333e-04 - val_loss: 8.2879e-04\n",
      "Epoch 65/100\n",
      "\u001b[1m20/20\u001b[0m \u001b[32m━━━━━━━━━━━━━━━━━━━━\u001b[0m\u001b[37m\u001b[0m \u001b[1m2s\u001b[0m 114ms/step - loss: 2.5248e-04 - val_loss: 0.0010\n",
      "Epoch 66/100\n",
      "\u001b[1m20/20\u001b[0m \u001b[32m━━━━━━━━━━━━━━━━━━━━\u001b[0m\u001b[37m\u001b[0m \u001b[1m2s\u001b[0m 117ms/step - loss: 1.8718e-04 - val_loss: 0.0012\n",
      "Epoch 67/100\n",
      "\u001b[1m20/20\u001b[0m \u001b[32m━━━━━━━━━━━━━━━━━━━━\u001b[0m\u001b[37m\u001b[0m \u001b[1m2s\u001b[0m 115ms/step - loss: 1.7328e-04 - val_loss: 8.5684e-04\n",
      "Epoch 68/100\n",
      "\u001b[1m20/20\u001b[0m \u001b[32m━━━━━━━━━━━━━━━━━━━━\u001b[0m\u001b[37m\u001b[0m \u001b[1m2s\u001b[0m 115ms/step - loss: 1.8846e-04 - val_loss: 0.0011\n",
      "Epoch 69/100\n",
      "\u001b[1m20/20\u001b[0m \u001b[32m━━━━━━━━━━━━━━━━━━━━\u001b[0m\u001b[37m\u001b[0m \u001b[1m2s\u001b[0m 116ms/step - loss: 1.7675e-04 - val_loss: 9.9898e-04\n",
      "Epoch 70/100\n",
      "\u001b[1m20/20\u001b[0m \u001b[32m━━━━━━━━━━━━━━━━━━━━\u001b[0m\u001b[37m\u001b[0m \u001b[1m2s\u001b[0m 116ms/step - loss: 1.7591e-04 - val_loss: 0.0107\n",
      "Epoch 71/100\n",
      "\u001b[1m20/20\u001b[0m \u001b[32m━━━━━━━━━━━━━━━━━━━━\u001b[0m\u001b[37m\u001b[0m \u001b[1m2s\u001b[0m 118ms/step - loss: 0.0014 - val_loss: 0.0024\n",
      "Epoch 72/100\n",
      "\u001b[1m20/20\u001b[0m \u001b[32m━━━━━━━━━━━━━━━━━━━━\u001b[0m\u001b[37m\u001b[0m \u001b[1m2s\u001b[0m 115ms/step - loss: 3.1638e-04 - val_loss: 0.0016\n",
      "Epoch 73/100\n",
      "\u001b[1m20/20\u001b[0m \u001b[32m━━━━━━━━━━━━━━━━━━━━\u001b[0m\u001b[37m\u001b[0m \u001b[1m2s\u001b[0m 112ms/step - loss: 1.9308e-04 - val_loss: 9.8244e-04\n",
      "Epoch 74/100\n",
      "\u001b[1m20/20\u001b[0m \u001b[32m━━━━━━━━━━━━━━━━━━━━\u001b[0m\u001b[37m\u001b[0m \u001b[1m2s\u001b[0m 116ms/step - loss: 1.7018e-04 - val_loss: 0.0012\n",
      "Epoch 75/100\n",
      "\u001b[1m20/20\u001b[0m \u001b[32m━━━━━━━━━━━━━━━━━━━━\u001b[0m\u001b[37m\u001b[0m \u001b[1m2s\u001b[0m 121ms/step - loss: 1.8864e-04 - val_loss: 9.8810e-04\n",
      "Epoch 76/100\n",
      "\u001b[1m20/20\u001b[0m \u001b[32m━━━━━━━━━━━━━━━━━━━━\u001b[0m\u001b[37m\u001b[0m \u001b[1m2s\u001b[0m 116ms/step - loss: 1.7601e-04 - val_loss: 9.8380e-04\n",
      "Epoch 77/100\n",
      "\u001b[1m20/20\u001b[0m \u001b[32m━━━━━━━━━━━━━━━━━━━━\u001b[0m\u001b[37m\u001b[0m \u001b[1m2s\u001b[0m 118ms/step - loss: 1.6181e-04 - val_loss: 0.0010\n",
      "Epoch 78/100\n",
      "\u001b[1m20/20\u001b[0m \u001b[32m━━━━━━━━━━━━━━━━━━━━\u001b[0m\u001b[37m\u001b[0m \u001b[1m2s\u001b[0m 121ms/step - loss: 1.7425e-04 - val_loss: 0.0013\n",
      "Epoch 79/100\n",
      "\u001b[1m20/20\u001b[0m \u001b[32m━━━━━━━━━━━━━━━━━━━━\u001b[0m\u001b[37m\u001b[0m \u001b[1m2s\u001b[0m 115ms/step - loss: 1.6355e-04 - val_loss: 8.1101e-04\n",
      "Epoch 80/100\n",
      "\u001b[1m20/20\u001b[0m \u001b[32m━━━━━━━━━━━━━━━━━━━━\u001b[0m\u001b[37m\u001b[0m \u001b[1m2s\u001b[0m 118ms/step - loss: 2.0673e-04 - val_loss: 0.0010\n",
      "Epoch 81/100\n",
      "\u001b[1m20/20\u001b[0m \u001b[32m━━━━━━━━━━━━━━━━━━━━\u001b[0m\u001b[37m\u001b[0m \u001b[1m2s\u001b[0m 115ms/step - loss: 1.5854e-04 - val_loss: 0.0012\n",
      "Epoch 82/100\n",
      "\u001b[1m20/20\u001b[0m \u001b[32m━━━━━━━━━━━━━━━━━━━━\u001b[0m\u001b[37m\u001b[0m \u001b[1m2s\u001b[0m 118ms/step - loss: 1.7387e-04 - val_loss: 0.0010\n",
      "Epoch 83/100\n",
      "\u001b[1m20/20\u001b[0m \u001b[32m━━━━━━━━━━━━━━━━━━━━\u001b[0m\u001b[37m\u001b[0m \u001b[1m2s\u001b[0m 117ms/step - loss: 1.9019e-04 - val_loss: 0.0010\n",
      "Epoch 84/100\n",
      "\u001b[1m20/20\u001b[0m \u001b[32m━━━━━━━━━━━━━━━━━━━━\u001b[0m\u001b[37m\u001b[0m \u001b[1m2s\u001b[0m 115ms/step - loss: 1.2569e-04 - val_loss: 0.0014\n",
      "Epoch 85/100\n",
      "\u001b[1m20/20\u001b[0m \u001b[32m━━━━━━━━━━━━━━━━━━━━\u001b[0m\u001b[37m\u001b[0m \u001b[1m2s\u001b[0m 117ms/step - loss: 1.9162e-04 - val_loss: 9.5268e-04\n",
      "Epoch 86/100\n",
      "\u001b[1m20/20\u001b[0m \u001b[32m━━━━━━━━━━━━━━━━━━━━\u001b[0m\u001b[37m\u001b[0m \u001b[1m2s\u001b[0m 118ms/step - loss: 1.7859e-04 - val_loss: 8.4333e-04\n",
      "Epoch 87/100\n",
      "\u001b[1m20/20\u001b[0m \u001b[32m━━━━━━━━━━━━━━━━━━━━\u001b[0m\u001b[37m\u001b[0m \u001b[1m2s\u001b[0m 116ms/step - loss: 1.6790e-04 - val_loss: 6.9060e-04\n",
      "Epoch 88/100\n",
      "\u001b[1m20/20\u001b[0m \u001b[32m━━━━━━━━━━━━━━━━━━━━\u001b[0m\u001b[37m\u001b[0m \u001b[1m2s\u001b[0m 117ms/step - loss: 1.4419e-04 - val_loss: 0.0013\n",
      "Epoch 89/100\n",
      "\u001b[1m20/20\u001b[0m \u001b[32m━━━━━━━━━━━━━━━━━━━━\u001b[0m\u001b[37m\u001b[0m \u001b[1m2s\u001b[0m 118ms/step - loss: 1.6213e-04 - val_loss: 8.7521e-04\n",
      "Epoch 90/100\n",
      "\u001b[1m20/20\u001b[0m \u001b[32m━━━━━━━━━━━━━━━━━━━━\u001b[0m\u001b[37m\u001b[0m \u001b[1m2s\u001b[0m 119ms/step - loss: 1.5446e-04 - val_loss: 0.0011\n",
      "Epoch 91/100\n",
      "\u001b[1m20/20\u001b[0m \u001b[32m━━━━━━━━━━━━━━━━━━━━\u001b[0m\u001b[37m\u001b[0m \u001b[1m2s\u001b[0m 116ms/step - loss: 1.2406e-04 - val_loss: 0.0015\n",
      "Epoch 92/100\n",
      "\u001b[1m20/20\u001b[0m \u001b[32m━━━━━━━━━━━━━━━━━━━━\u001b[0m\u001b[37m\u001b[0m \u001b[1m2s\u001b[0m 117ms/step - loss: 2.2898e-04 - val_loss: 0.0013\n",
      "Epoch 93/100\n",
      "\u001b[1m20/20\u001b[0m \u001b[32m━━━━━━━━━━━━━━━━━━━━\u001b[0m\u001b[37m\u001b[0m \u001b[1m2s\u001b[0m 118ms/step - loss: 1.4718e-04 - val_loss: 7.2814e-04\n",
      "Epoch 94/100\n",
      "\u001b[1m20/20\u001b[0m \u001b[32m━━━━━━━━━━━━━━━━━━━━\u001b[0m\u001b[37m\u001b[0m \u001b[1m2s\u001b[0m 120ms/step - loss: 1.1846e-04 - val_loss: 8.0918e-04\n",
      "Epoch 95/100\n",
      "\u001b[1m20/20\u001b[0m \u001b[32m━━━━━━━━━━━━━━━━━━━━\u001b[0m\u001b[37m\u001b[0m \u001b[1m2s\u001b[0m 118ms/step - loss: 2.1022e-04 - val_loss: 8.4402e-04\n",
      "Epoch 96/100\n",
      "\u001b[1m20/20\u001b[0m \u001b[32m━━━━━━━━━━━━━━━━━━━━\u001b[0m\u001b[37m\u001b[0m \u001b[1m2s\u001b[0m 118ms/step - loss: 1.6375e-04 - val_loss: 6.7891e-04\n",
      "Epoch 97/100\n",
      "\u001b[1m20/20\u001b[0m \u001b[32m━━━━━━━━━━━━━━━━━━━━\u001b[0m\u001b[37m\u001b[0m \u001b[1m2s\u001b[0m 118ms/step - loss: 1.3949e-04 - val_loss: 8.2518e-04\n",
      "Epoch 98/100\n",
      "\u001b[1m20/20\u001b[0m \u001b[32m━━━━━━━━━━━━━━━━━━━━\u001b[0m\u001b[37m\u001b[0m \u001b[1m2s\u001b[0m 120ms/step - loss: 1.6602e-04 - val_loss: 8.2519e-04\n",
      "Epoch 99/100\n",
      "\u001b[1m20/20\u001b[0m \u001b[32m━━━━━━━━━━━━━━━━━━━━\u001b[0m\u001b[37m\u001b[0m \u001b[1m2s\u001b[0m 120ms/step - loss: 1.2166e-04 - val_loss: 0.0018\n",
      "Epoch 100/100\n",
      "\u001b[1m20/20\u001b[0m \u001b[32m━━━━━━━━━━━━━━━━━━━━\u001b[0m\u001b[37m\u001b[0m \u001b[1m2s\u001b[0m 116ms/step - loss: 1.5126e-04 - val_loss: 0.0010\n"
     ]
    },
    {
     "data": {
      "text/plain": [
       "<keras.src.callbacks.history.History at 0x79686142f170>"
      ]
     },
     "execution_count": 26,
     "metadata": {},
     "output_type": "execute_result"
    }
   ],
   "source": [
    "model.fit(X_train,y_train,validation_data=(X_test,ytest),epochs=100,batch_size=64,verbose=1)\n"
   ]
  },
  {
   "cell_type": "code",
   "execution_count": 27,
   "id": "6eb6e7c0-38a4-4b9b-a562-cb7ac1bc5d7a",
   "metadata": {},
   "outputs": [],
   "source": [
    "import tensorflow as tf\n"
   ]
  },
  {
   "cell_type": "code",
   "execution_count": 28,
   "id": "6dd7ab10-6d63-4ae3-9d93-df3b850b125b",
   "metadata": {},
   "outputs": [
    {
     "data": {
      "text/plain": [
       "'2.16.1'"
      ]
     },
     "execution_count": 28,
     "metadata": {},
     "output_type": "execute_result"
    }
   ],
   "source": [
    "tf.__version__\n"
   ]
  },
  {
   "cell_type": "code",
   "execution_count": 29,
   "id": "0e72e3c6-810e-4967-9069-39395f6a92f0",
   "metadata": {},
   "outputs": [
    {
     "name": "stdout",
     "output_type": "stream",
     "text": [
      "\u001b[1m39/39\u001b[0m \u001b[32m━━━━━━━━━━━━━━━━━━━━\u001b[0m\u001b[37m\u001b[0m \u001b[1m1s\u001b[0m 27ms/step\n",
      "\u001b[1m20/20\u001b[0m \u001b[32m━━━━━━━━━━━━━━━━━━━━\u001b[0m\u001b[37m\u001b[0m \u001b[1m0s\u001b[0m 19ms/step\n"
     ]
    }
   ],
   "source": [
    "### Lets Do the prediction and check performance metrics\n",
    "train_predict=model.predict(X_train)\n",
    "test_predict=model.predict(X_test)"
   ]
  },
  {
   "cell_type": "code",
   "execution_count": 30,
   "id": "cf69c7c4-4200-4b36-a259-a9dcffe91276",
   "metadata": {},
   "outputs": [],
   "source": [
    "##Transformback to original form\n",
    "train_predict=scaler.inverse_transform(train_predict)\n",
    "test_predict=scaler.inverse_transform(test_predict)"
   ]
  },
  {
   "cell_type": "code",
   "execution_count": 31,
   "id": "6143265e-1b3d-47dc-bf61-6e0f45103acf",
   "metadata": {},
   "outputs": [
    {
     "data": {
      "text/plain": [
       "229.5135906456389"
      ]
     },
     "execution_count": 31,
     "metadata": {},
     "output_type": "execute_result"
    }
   ],
   "source": [
    "import math\n",
    "from sklearn.metrics import mean_squared_error\n",
    "math.sqrt(mean_squared_error(y_train,train_predict))"
   ]
  },
  {
   "cell_type": "code",
   "execution_count": 32,
   "id": "5108cb3c-e84a-4ad3-aac7-5bcc751b90aa",
   "metadata": {},
   "outputs": [
    {
     "data": {
      "image/png": "[encoded data removed]",
      "text/plain": [
       "<Figure size 640x480 with 1 Axes>"
      ]
     },
     "metadata": {},
     "output_type": "display_data"
    }
   ],
   "source": [
    "### Plotting \n",
    "# shift train predictions for plotting\n",
    "look_back=100\n",
    "trainPredictPlot = numpy.empty_like(df1)\n",
    "trainPredictPlot[:, :] = np.nan\n",
    "trainPredictPlot[look_back:len(train_predict)+look_back, :] = train_predict\n",
    "# shift test predictions for plotting\n",
    "testPredictPlot = numpy.empty_like(df1)\n",
    "testPredictPlot[:, :] = numpy.nan\n",
    "testPredictPlot[len(train_predict)+(look_back*2)+1:len(df1)-1, :] = test_predict\n",
    "# plot baseline and predictions\n",
    "plt.plot(scaler.inverse_transform(df1))\n",
    "plt.plot(trainPredictPlot)\n",
    "plt.plot(testPredictPlot)\n",
    "plt.show()"
   ]
  },
  {
   "cell_type": "code",
   "execution_count": 49,
   "id": "a1b732e2-48ed-4929-9e3e-0401585efd20",
   "metadata": {},
   "outputs": [
    {
     "data": {
      "text/plain": [
       "712"
      ]
     },
     "execution_count": 49,
     "metadata": {},
     "output_type": "execute_result"
    }
   ],
   "source": [
    " len(test_data)\n"
   ]
  },
  {
   "cell_type": "code",
   "execution_count": 50,
   "id": "bb5967c3-cc48-4bcb-980c-34ebd2771ffe",
   "metadata": {},
   "outputs": [
    {
     "data": {
      "text/plain": [
       "(1, 100)"
      ]
     },
     "execution_count": 50,
     "metadata": {},
     "output_type": "execute_result"
    }
   ],
   "source": [
    "x_input=test_data[612:].reshape(1,-1)\n",
    "x_input.shape"
   ]
  },
  {
   "cell_type": "code",
   "execution_count": 51,
   "id": "2b1909f5-bfb4-4bb6-a9dc-b4309ba3d315",
   "metadata": {},
   "outputs": [],
   "source": [
    "temp_input=list(x_input)\n",
    "temp_input=temp_input[0].tolist()"
   ]
  },
  {
   "cell_type": "code",
   "execution_count": 57,
   "id": "6f0ac757-e1e4-4d5a-835f-8b85f814b067",
   "metadata": {},
   "outputs": [
    {
     "name": "stdout",
     "output_type": "stream",
     "text": [
      "0 day input [0.31522581 0.31870968 0.32516129 0.32645161 0.32       0.32748387\n",
      " 0.31870968 0.32258065 0.31754839 0.3083871  0.3123871  0.30967742\n",
      " 0.3123871  0.30967742 0.31870968 0.31483871 0.31870968 0.30206452\n",
      " 0.30322581 0.30451613 0.32129032 0.31290323 0.31251613 0.31612903\n",
      " 0.30967742 0.31741935 0.3116129  0.30529032 0.30580645 0.3083871\n",
      " 0.32516129 0.32722581 0.34645161 0.34709677 0.34967742 0.35419355\n",
      " 0.36116129 0.36387097 0.364      0.34748387 0.34       0.34451613\n",
      " 0.3403871  0.33935484 0.32774194 0.34709677 0.34709677 0.34709677\n",
      " 0.36       0.38193548 0.37290323 0.36541935 0.37290323 0.38580645\n",
      " 0.36903226 0.36       0.36       0.35096774 0.35741935 0.35096774\n",
      " 0.35341935 0.36387097 0.35987097 0.35729032 0.3483871  0.35341935\n",
      " 0.35806452 0.36       0.35870968 0.35677419 0.35806452 0.3563871\n",
      " 0.36258065 0.35483871 0.38606452 0.37677419 0.35883871 0.36\n",
      " 0.35354839 0.35393548 0.356      0.35664516 0.35483871 0.35354839\n",
      " 0.33935484 0.33677419 0.3643871  0.34464516 0.35458065 0.35225806\n",
      " 0.35017747 0.34806335 0.34572864 0.34352294 0.34153816 0.33977765\n",
      " 0.33819637 0.33673072 0.33532175 0.33392781]\n",
      "0 day output [[0.33252707]]\n",
      "1 day input [0.31870968 0.32516129 0.32645161 0.32       0.32748387 0.31870968\n",
      " 0.32258065 0.31754839 0.3083871  0.3123871  0.30967742 0.3123871\n",
      " 0.30967742 0.31870968 0.31483871 0.31870968 0.30206452 0.30322581\n",
      " 0.30451613 0.32129032 0.31290323 0.31251613 0.31612903 0.30967742\n",
      " 0.31741935 0.3116129  0.30529032 0.30580645 0.3083871  0.32516129\n",
      " 0.32722581 0.34645161 0.34709677 0.34967742 0.35419355 0.36116129\n",
      " 0.36387097 0.364      0.34748387 0.34       0.34451613 0.3403871\n",
      " 0.33935484 0.32774194 0.34709677 0.34709677 0.34709677 0.36\n",
      " 0.38193548 0.37290323 0.36541935 0.37290323 0.38580645 0.36903226\n",
      " 0.36       0.36       0.35096774 0.35741935 0.35096774 0.35341935\n",
      " 0.36387097 0.35987097 0.35729032 0.3483871  0.35341935 0.35806452\n",
      " 0.36       0.35870968 0.35677419 0.35806452 0.3563871  0.36258065\n",
      " 0.35483871 0.38606452 0.37677419 0.35883871 0.36       0.35354839\n",
      " 0.35393548 0.356      0.35664516 0.35483871 0.35354839 0.33935484\n",
      " 0.33677419 0.3643871  0.34464516 0.35458065 0.35225806 0.35017747\n",
      " 0.34806335 0.34572864 0.34352294 0.34153816 0.33977765 0.33819637\n",
      " 0.33673072 0.33532175 0.33392781 0.33252707]\n",
      "1 day output [[0.3311158]]\n",
      "2 day input [0.32516129 0.32645161 0.32       0.32748387 0.31870968 0.32258065\n",
      " 0.31754839 0.3083871  0.3123871  0.30967742 0.3123871  0.30967742\n",
      " 0.31870968 0.31483871 0.31870968 0.30206452 0.30322581 0.30451613\n",
      " 0.32129032 0.31290323 0.31251613 0.31612903 0.30967742 0.31741935\n",
      " 0.3116129  0.30529032 0.30580645 0.3083871  0.32516129 0.32722581\n",
      " 0.34645161 0.34709677 0.34967742 0.35419355 0.36116129 0.36387097\n",
      " 0.364      0.34748387 0.34       0.34451613 0.3403871  0.33935484\n",
      " 0.32774194 0.34709677 0.34709677 0.34709677 0.36       0.38193548\n",
      " 0.37290323 0.36541935 0.37290323 0.38580645 0.36903226 0.36\n",
      " 0.36       0.35096774 0.35741935 0.35096774 0.35341935 0.36387097\n",
      " 0.35987097 0.35729032 0.3483871  0.35341935 0.35806452 0.36\n",
      " 0.35870968 0.35677419 0.35806452 0.3563871  0.36258065 0.35483871\n",
      " 0.38606452 0.37677419 0.35883871 0.36       0.35354839 0.35393548\n",
      " 0.356      0.35664516 0.35483871 0.35354839 0.33935484 0.33677419\n",
      " 0.3643871  0.34464516 0.35458065 0.35225806 0.35017747 0.34806335\n",
      " 0.34572864 0.34352294 0.34153816 0.33977765 0.33819637 0.33673072\n",
      " 0.33532175 0.33392781 0.33252707 0.33111581]\n",
      "2 day output [[0.32970324]]\n",
      "3 day input [0.32645161 0.32       0.32748387 0.31870968 0.32258065 0.31754839\n",
      " 0.3083871  0.3123871  0.30967742 0.3123871  0.30967742 0.31870968\n",
      " 0.31483871 0.31870968 0.30206452 0.30322581 0.30451613 0.32129032\n",
      " 0.31290323 0.31251613 0.31612903 0.30967742 0.31741935 0.3116129\n",
      " 0.30529032 0.30580645 0.3083871  0.32516129 0.32722581 0.34645161\n",
      " 0.34709677 0.34967742 0.35419355 0.36116129 0.36387097 0.364\n",
      " 0.34748387 0.34       0.34451613 0.3403871  0.33935484 0.32774194\n",
      " 0.34709677 0.34709677 0.34709677 0.36       0.38193548 0.37290323\n",
      " 0.36541935 0.37290323 0.38580645 0.36903226 0.36       0.36\n",
      " 0.35096774 0.35741935 0.35096774 0.35341935 0.36387097 0.35987097\n",
      " 0.35729032 0.3483871  0.35341935 0.35806452 0.36       0.35870968\n",
      " 0.35677419 0.35806452 0.3563871  0.36258065 0.35483871 0.38606452\n",
      " 0.37677419 0.35883871 0.36       0.35354839 0.35393548 0.356\n",
      " 0.35664516 0.35483871 0.35354839 0.33935484 0.33677419 0.3643871\n",
      " 0.34464516 0.35458065 0.35225806 0.35017747 0.34806335 0.34572864\n",
      " 0.34352294 0.34153816 0.33977765 0.33819637 0.33673072 0.33532175\n",
      " 0.33392781 0.33252707 0.33111581 0.32970324]\n",
      "3 day output [[0.32830533]]\n",
      "4 day input [0.32       0.32748387 0.31870968 0.32258065 0.31754839 0.3083871\n",
      " 0.3123871  0.30967742 0.3123871  0.30967742 0.31870968 0.31483871\n",
      " 0.31870968 0.30206452 0.30322581 0.30451613 0.32129032 0.31290323\n",
      " 0.31251613 0.31612903 0.30967742 0.31741935 0.3116129  0.30529032\n",
      " 0.30580645 0.3083871  0.32516129 0.32722581 0.34645161 0.34709677\n",
      " 0.34967742 0.35419355 0.36116129 0.36387097 0.364      0.34748387\n",
      " 0.34       0.34451613 0.3403871  0.33935484 0.32774194 0.34709677\n",
      " 0.34709677 0.34709677 0.36       0.38193548 0.37290323 0.36541935\n",
      " 0.37290323 0.38580645 0.36903226 0.36       0.36       0.35096774\n",
      " 0.35741935 0.35096774 0.35341935 0.36387097 0.35987097 0.35729032\n",
      " 0.3483871  0.35341935 0.35806452 0.36       0.35870968 0.35677419\n",
      " 0.35806452 0.3563871  0.36258065 0.35483871 0.38606452 0.37677419\n",
      " 0.35883871 0.36       0.35354839 0.35393548 0.356      0.35664516\n",
      " 0.35483871 0.35354839 0.33935484 0.33677419 0.3643871  0.34464516\n",
      " 0.35458065 0.35225806 0.35017747 0.34806335 0.34572864 0.34352294\n",
      " 0.34153816 0.33977765 0.33819637 0.33673072 0.33532175 0.33392781\n",
      " 0.33252707 0.33111581 0.32970324 0.32830533]\n",
      "4 day output [[0.32693928]]\n",
      "5 day input [0.32748387 0.31870968 0.32258065 0.31754839 0.3083871  0.3123871\n",
      " 0.30967742 0.3123871  0.30967742 0.31870968 0.31483871 0.31870968\n",
      " 0.30206452 0.30322581 0.30451613 0.32129032 0.31290323 0.31251613\n",
      " 0.31612903 0.30967742 0.31741935 0.3116129  0.30529032 0.30580645\n",
      " 0.3083871  0.32516129 0.32722581 0.34645161 0.34709677 0.34967742\n",
      " 0.35419355 0.36116129 0.36387097 0.364      0.34748387 0.34\n",
      " 0.34451613 0.3403871  0.33935484 0.32774194 0.34709677 0.34709677\n",
      " 0.34709677 0.36       0.38193548 0.37290323 0.36541935 0.37290323\n",
      " 0.38580645 0.36903226 0.36       0.36       0.35096774 0.35741935\n",
      " 0.35096774 0.35341935 0.36387097 0.35987097 0.35729032 0.3483871\n",
      " 0.35341935 0.35806452 0.36       0.35870968 0.35677419 0.35806452\n",
      " 0.3563871  0.36258065 0.35483871 0.38606452 0.37677419 0.35883871\n",
      " 0.36       0.35354839 0.35393548 0.356      0.35664516 0.35483871\n",
      " 0.35354839 0.33935484 0.33677419 0.3643871  0.34464516 0.35458065\n",
      " 0.35225806 0.35017747 0.34806335 0.34572864 0.34352294 0.34153816\n",
      " 0.33977765 0.33819637 0.33673072 0.33532175 0.33392781 0.33252707\n",
      " 0.33111581 0.32970324 0.32830533 0.32693928]\n",
      "5 day output [[0.32562009]]\n",
      "6 day input [0.31870968 0.32258065 0.31754839 0.3083871  0.3123871  0.30967742\n",
      " 0.3123871  0.30967742 0.31870968 0.31483871 0.31870968 0.30206452\n",
      " 0.30322581 0.30451613 0.32129032 0.31290323 0.31251613 0.31612903\n",
      " 0.30967742 0.31741935 0.3116129  0.30529032 0.30580645 0.3083871\n",
      " 0.32516129 0.32722581 0.34645161 0.34709677 0.34967742 0.35419355\n",
      " 0.36116129 0.36387097 0.364      0.34748387 0.34       0.34451613\n",
      " 0.3403871  0.33935484 0.32774194 0.34709677 0.34709677 0.34709677\n",
      " 0.36       0.38193548 0.37290323 0.36541935 0.37290323 0.38580645\n",
      " 0.36903226 0.36       0.36       0.35096774 0.35741935 0.35096774\n",
      " 0.35341935 0.36387097 0.35987097 0.35729032 0.3483871  0.35341935\n",
      " 0.35806452 0.36       0.35870968 0.35677419 0.35806452 0.3563871\n",
      " 0.36258065 0.35483871 0.38606452 0.37677419 0.35883871 0.36\n",
      " 0.35354839 0.35393548 0.356      0.35664516 0.35483871 0.35354839\n",
      " 0.33935484 0.33677419 0.3643871  0.34464516 0.35458065 0.35225806\n",
      " 0.35017747 0.34806335 0.34572864 0.34352294 0.34153816 0.33977765\n",
      " 0.33819637 0.33673072 0.33532175 0.33392781 0.33252707 0.33111581\n",
      " 0.32970324 0.32830533 0.32693928 0.32562009]\n",
      "6 day output [[0.32435894]]\n",
      "7 day input [0.32258065 0.31754839 0.3083871  0.3123871  0.30967742 0.3123871\n",
      " 0.30967742 0.31870968 0.31483871 0.31870968 0.30206452 0.30322581\n",
      " 0.30451613 0.32129032 0.31290323 0.31251613 0.31612903 0.30967742\n",
      " 0.31741935 0.3116129  0.30529032 0.30580645 0.3083871  0.32516129\n",
      " 0.32722581 0.34645161 0.34709677 0.34967742 0.35419355 0.36116129\n",
      " 0.36387097 0.364      0.34748387 0.34       0.34451613 0.3403871\n",
      " 0.33935484 0.32774194 0.34709677 0.34709677 0.34709677 0.36\n",
      " 0.38193548 0.37290323 0.36541935 0.37290323 0.38580645 0.36903226\n",
      " 0.36       0.36       0.35096774 0.35741935 0.35096774 0.35341935\n",
      " 0.36387097 0.35987097 0.35729032 0.3483871  0.35341935 0.35806452\n",
      " 0.36       0.35870968 0.35677419 0.35806452 0.3563871  0.36258065\n",
      " 0.35483871 0.38606452 0.37677419 0.35883871 0.36       0.35354839\n",
      " 0.35393548 0.356      0.35664516 0.35483871 0.35354839 0.33935484\n",
      " 0.33677419 0.3643871  0.34464516 0.35458065 0.35225806 0.35017747\n",
      " 0.34806335 0.34572864 0.34352294 0.34153816 0.33977765 0.33819637\n",
      " 0.33673072 0.33532175 0.33392781 0.33252707 0.33111581 0.32970324\n",
      " 0.32830533 0.32693928 0.32562009 0.32435894]\n",
      "7 day output [[0.3231619]]\n",
      "8 day input [0.31754839 0.3083871  0.3123871  0.30967742 0.3123871  0.30967742\n",
      " 0.31870968 0.31483871 0.31870968 0.30206452 0.30322581 0.30451613\n",
      " 0.32129032 0.31290323 0.31251613 0.31612903 0.30967742 0.31741935\n",
      " 0.3116129  0.30529032 0.30580645 0.3083871  0.32516129 0.32722581\n",
      " 0.34645161 0.34709677 0.34967742 0.35419355 0.36116129 0.36387097\n",
      " 0.364      0.34748387 0.34       0.34451613 0.3403871  0.33935484\n",
      " 0.32774194 0.34709677 0.34709677 0.34709677 0.36       0.38193548\n",
      " 0.37290323 0.36541935 0.37290323 0.38580645 0.36903226 0.36\n",
      " 0.36       0.35096774 0.35741935 0.35096774 0.35341935 0.36387097\n",
      " 0.35987097 0.35729032 0.3483871  0.35341935 0.35806452 0.36\n",
      " 0.35870968 0.35677419 0.35806452 0.3563871  0.36258065 0.35483871\n",
      " 0.38606452 0.37677419 0.35883871 0.36       0.35354839 0.35393548\n",
      " 0.356      0.35664516 0.35483871 0.35354839 0.33935484 0.33677419\n",
      " 0.3643871  0.34464516 0.35458065 0.35225806 0.35017747 0.34806335\n",
      " 0.34572864 0.34352294 0.34153816 0.33977765 0.33819637 0.33673072\n",
      " 0.33532175 0.33392781 0.33252707 0.33111581 0.32970324 0.32830533\n",
      " 0.32693928 0.32562009 0.32435894 0.3231619 ]\n",
      "8 day output [[0.32203138]]\n",
      "9 day input [0.3083871  0.3123871  0.30967742 0.3123871  0.30967742 0.31870968\n",
      " 0.31483871 0.31870968 0.30206452 0.30322581 0.30451613 0.32129032\n",
      " 0.31290323 0.31251613 0.31612903 0.30967742 0.31741935 0.3116129\n",
      " 0.30529032 0.30580645 0.3083871  0.32516129 0.32722581 0.34645161\n",
      " 0.34709677 0.34967742 0.35419355 0.36116129 0.36387097 0.364\n",
      " 0.34748387 0.34       0.34451613 0.3403871  0.33935484 0.32774194\n",
      " 0.34709677 0.34709677 0.34709677 0.36       0.38193548 0.37290323\n",
      " 0.36541935 0.37290323 0.38580645 0.36903226 0.36       0.36\n",
      " 0.35096774 0.35741935 0.35096774 0.35341935 0.36387097 0.35987097\n",
      " 0.35729032 0.3483871  0.35341935 0.35806452 0.36       0.35870968\n",
      " 0.35677419 0.35806452 0.3563871  0.36258065 0.35483871 0.38606452\n",
      " 0.37677419 0.35883871 0.36       0.35354839 0.35393548 0.356\n",
      " 0.35664516 0.35483871 0.35354839 0.33935484 0.33677419 0.3643871\n",
      " 0.34464516 0.35458065 0.35225806 0.35017747 0.34806335 0.34572864\n",
      " 0.34352294 0.34153816 0.33977765 0.33819637 0.33673072 0.33532175\n",
      " 0.33392781 0.33252707 0.33111581 0.32970324 0.32830533 0.32693928\n",
      " 0.32562009 0.32435894 0.3231619  0.32203138]\n",
      "9 day output [[0.32096645]]\n",
      "10 day input [0.3123871  0.30967742 0.3123871  0.30967742 0.31870968 0.31483871\n",
      " 0.31870968 0.30206452 0.30322581 0.30451613 0.32129032 0.31290323\n",
      " 0.31251613 0.31612903 0.30967742 0.31741935 0.3116129  0.30529032\n",
      " 0.30580645 0.3083871  0.32516129 0.32722581 0.34645161 0.34709677\n",
      " 0.34967742 0.35419355 0.36116129 0.36387097 0.364      0.34748387\n",
      " 0.34       0.34451613 0.3403871  0.33935484 0.32774194 0.34709677\n",
      " 0.34709677 0.34709677 0.36       0.38193548 0.37290323 0.36541935\n",
      " 0.37290323 0.38580645 0.36903226 0.36       0.36       0.35096774\n",
      " 0.35741935 0.35096774 0.35341935 0.36387097 0.35987097 0.35729032\n",
      " 0.3483871  0.35341935 0.35806452 0.36       0.35870968 0.35677419\n",
      " 0.35806452 0.3563871  0.36258065 0.35483871 0.38606452 0.37677419\n",
      " 0.35883871 0.36       0.35354839 0.35393548 0.356      0.35664516\n",
      " 0.35483871 0.35354839 0.33935484 0.33677419 0.3643871  0.34464516\n",
      " 0.35458065 0.35225806 0.35017747 0.34806335 0.34572864 0.34352294\n",
      " 0.34153816 0.33977765 0.33819637 0.33673072 0.33532175 0.33392781\n",
      " 0.33252707 0.33111581 0.32970324 0.32830533 0.32693928 0.32562009\n",
      " 0.32435894 0.3231619  0.32203138 0.32096645]\n",
      "10 day output [[0.31996423]]\n",
      "11 day input [0.30967742 0.3123871  0.30967742 0.31870968 0.31483871 0.31870968\n",
      " 0.30206452 0.30322581 0.30451613 0.32129032 0.31290323 0.31251613\n",
      " 0.31612903 0.30967742 0.31741935 0.3116129  0.30529032 0.30580645\n",
      " 0.3083871  0.32516129 0.32722581 0.34645161 0.34709677 0.34967742\n",
      " 0.35419355 0.36116129 0.36387097 0.364      0.34748387 0.34\n",
      " 0.34451613 0.3403871  0.33935484 0.32774194 0.34709677 0.34709677\n",
      " 0.34709677 0.36       0.38193548 0.37290323 0.36541935 0.37290323\n",
      " 0.38580645 0.36903226 0.36       0.36       0.35096774 0.35741935\n",
      " 0.35096774 0.35341935 0.36387097 0.35987097 0.35729032 0.3483871\n",
      " 0.35341935 0.35806452 0.36       0.35870968 0.35677419 0.35806452\n",
      " 0.3563871  0.36258065 0.35483871 0.38606452 0.37677419 0.35883871\n",
      " 0.36       0.35354839 0.35393548 0.356      0.35664516 0.35483871\n",
      " 0.35354839 0.33935484 0.33677419 0.3643871  0.34464516 0.35458065\n",
      " 0.35225806 0.35017747 0.34806335 0.34572864 0.34352294 0.34153816\n",
      " 0.33977765 0.33819637 0.33673072 0.33532175 0.33392781 0.33252707\n",
      " 0.33111581 0.32970324 0.32830533 0.32693928 0.32562009 0.32435894\n",
      " 0.3231619  0.32203138 0.32096645 0.31996423]\n",
      "11 day output [[0.31902084]]\n",
      "12 day input [0.3123871  0.30967742 0.31870968 0.31483871 0.31870968 0.30206452\n",
      " 0.30322581 0.30451613 0.32129032 0.31290323 0.31251613 0.31612903\n",
      " 0.30967742 0.31741935 0.3116129  0.30529032 0.30580645 0.3083871\n",
      " 0.32516129 0.32722581 0.34645161 0.34709677 0.34967742 0.35419355\n",
      " 0.36116129 0.36387097 0.364      0.34748387 0.34       0.34451613\n",
      " 0.3403871  0.33935484 0.32774194 0.34709677 0.34709677 0.34709677\n",
      " 0.36       0.38193548 0.37290323 0.36541935 0.37290323 0.38580645\n",
      " 0.36903226 0.36       0.36       0.35096774 0.35741935 0.35096774\n",
      " 0.35341935 0.36387097 0.35987097 0.35729032 0.3483871  0.35341935\n",
      " 0.35806452 0.36       0.35870968 0.35677419 0.35806452 0.3563871\n",
      " 0.36258065 0.35483871 0.38606452 0.37677419 0.35883871 0.36\n",
      " 0.35354839 0.35393548 0.356      0.35664516 0.35483871 0.35354839\n",
      " 0.33935484 0.33677419 0.3643871  0.34464516 0.35458065 0.35225806\n",
      " 0.35017747 0.34806335 0.34572864 0.34352294 0.34153816 0.33977765\n",
      " 0.33819637 0.33673072 0.33532175 0.33392781 0.33252707 0.33111581\n",
      " 0.32970324 0.32830533 0.32693928 0.32562009 0.32435894 0.3231619\n",
      " 0.32203138 0.32096645 0.31996423 0.31902084]\n",
      "12 day output [[0.31813216]]\n",
      "13 day input [0.30967742 0.31870968 0.31483871 0.31870968 0.30206452 0.30322581\n",
      " 0.30451613 0.32129032 0.31290323 0.31251613 0.31612903 0.30967742\n",
      " 0.31741935 0.3116129  0.30529032 0.30580645 0.3083871  0.32516129\n",
      " 0.32722581 0.34645161 0.34709677 0.34967742 0.35419355 0.36116129\n",
      " 0.36387097 0.364      0.34748387 0.34       0.34451613 0.3403871\n",
      " 0.33935484 0.32774194 0.34709677 0.34709677 0.34709677 0.36\n",
      " 0.38193548 0.37290323 0.36541935 0.37290323 0.38580645 0.36903226\n",
      " 0.36       0.36       0.35096774 0.35741935 0.35096774 0.35341935\n",
      " 0.36387097 0.35987097 0.35729032 0.3483871  0.35341935 0.35806452\n",
      " 0.36       0.35870968 0.35677419 0.35806452 0.3563871  0.36258065\n",
      " 0.35483871 0.38606452 0.37677419 0.35883871 0.36       0.35354839\n",
      " 0.35393548 0.356      0.35664516 0.35483871 0.35354839 0.33935484\n",
      " 0.33677419 0.3643871  0.34464516 0.35458065 0.35225806 0.35017747\n",
      " 0.34806335 0.34572864 0.34352294 0.34153816 0.33977765 0.33819637\n",
      " 0.33673072 0.33532175 0.33392781 0.33252707 0.33111581 0.32970324\n",
      " 0.32830533 0.32693928 0.32562009 0.32435894 0.3231619  0.32203138\n",
      " 0.32096645 0.31996423 0.31902084 0.31813216]\n",
      "13 day output [[0.31729448]]\n",
      "14 day input [0.31870968 0.31483871 0.31870968 0.30206452 0.30322581 0.30451613\n",
      " 0.32129032 0.31290323 0.31251613 0.31612903 0.30967742 0.31741935\n",
      " 0.3116129  0.30529032 0.30580645 0.3083871  0.32516129 0.32722581\n",
      " 0.34645161 0.34709677 0.34967742 0.35419355 0.36116129 0.36387097\n",
      " 0.364      0.34748387 0.34       0.34451613 0.3403871  0.33935484\n",
      " 0.32774194 0.34709677 0.34709677 0.34709677 0.36       0.38193548\n",
      " 0.37290323 0.36541935 0.37290323 0.38580645 0.36903226 0.36\n",
      " 0.36       0.35096774 0.35741935 0.35096774 0.35341935 0.36387097\n",
      " 0.35987097 0.35729032 0.3483871  0.35341935 0.35806452 0.36\n",
      " 0.35870968 0.35677419 0.35806452 0.3563871  0.36258065 0.35483871\n",
      " 0.38606452 0.37677419 0.35883871 0.36       0.35354839 0.35393548\n",
      " 0.356      0.35664516 0.35483871 0.35354839 0.33935484 0.33677419\n",
      " 0.3643871  0.34464516 0.35458065 0.35225806 0.35017747 0.34806335\n",
      " 0.34572864 0.34352294 0.34153816 0.33977765 0.33819637 0.33673072\n",
      " 0.33532175 0.33392781 0.33252707 0.33111581 0.32970324 0.32830533\n",
      " 0.32693928 0.32562009 0.32435894 0.3231619  0.32203138 0.32096645\n",
      " 0.31996423 0.31902084 0.31813216 0.31729448]\n",
      "14 day output [[0.3165043]]\n",
      "15 day input [0.31483871 0.31870968 0.30206452 0.30322581 0.30451613 0.32129032\n",
      " 0.31290323 0.31251613 0.31612903 0.30967742 0.31741935 0.3116129\n",
      " 0.30529032 0.30580645 0.3083871  0.32516129 0.32722581 0.34645161\n",
      " 0.34709677 0.34967742 0.35419355 0.36116129 0.36387097 0.364\n",
      " 0.34748387 0.34       0.34451613 0.3403871  0.33935484 0.32774194\n",
      " 0.34709677 0.34709677 0.34709677 0.36       0.38193548 0.37290323\n",
      " 0.36541935 0.37290323 0.38580645 0.36903226 0.36       0.36\n",
      " 0.35096774 0.35741935 0.35096774 0.35341935 0.36387097 0.35987097\n",
      " 0.35729032 0.3483871  0.35341935 0.35806452 0.36       0.35870968\n",
      " 0.35677419 0.35806452 0.3563871  0.36258065 0.35483871 0.38606452\n",
      " 0.37677419 0.35883871 0.36       0.35354839 0.35393548 0.356\n",
      " 0.35664516 0.35483871 0.35354839 0.33935484 0.33677419 0.3643871\n",
      " 0.34464516 0.35458065 0.35225806 0.35017747 0.34806335 0.34572864\n",
      " 0.34352294 0.34153816 0.33977765 0.33819637 0.33673072 0.33532175\n",
      " 0.33392781 0.33252707 0.33111581 0.32970324 0.32830533 0.32693928\n",
      " 0.32562009 0.32435894 0.3231619  0.32203138 0.32096645 0.31996423\n",
      " 0.31902084 0.31813216 0.31729448 0.3165043 ]\n",
      "15 day output [[0.3157585]]\n",
      "16 day input [0.31870968 0.30206452 0.30322581 0.30451613 0.32129032 0.31290323\n",
      " 0.31251613 0.31612903 0.30967742 0.31741935 0.3116129  0.30529032\n",
      " 0.30580645 0.3083871  0.32516129 0.32722581 0.34645161 0.34709677\n",
      " 0.34967742 0.35419355 0.36116129 0.36387097 0.364      0.34748387\n",
      " 0.34       0.34451613 0.3403871  0.33935484 0.32774194 0.34709677\n",
      " 0.34709677 0.34709677 0.36       0.38193548 0.37290323 0.36541935\n",
      " 0.37290323 0.38580645 0.36903226 0.36       0.36       0.35096774\n",
      " 0.35741935 0.35096774 0.35341935 0.36387097 0.35987097 0.35729032\n",
      " 0.3483871  0.35341935 0.35806452 0.36       0.35870968 0.35677419\n",
      " 0.35806452 0.3563871  0.36258065 0.35483871 0.38606452 0.37677419\n",
      " 0.35883871 0.36       0.35354839 0.35393548 0.356      0.35664516\n",
      " 0.35483871 0.35354839 0.33935484 0.33677419 0.3643871  0.34464516\n",
      " 0.35458065 0.35225806 0.35017747 0.34806335 0.34572864 0.34352294\n",
      " 0.34153816 0.33977765 0.33819637 0.33673072 0.33532175 0.33392781\n",
      " 0.33252707 0.33111581 0.32970324 0.32830533 0.32693928 0.32562009\n",
      " 0.32435894 0.3231619  0.32203138 0.32096645 0.31996423 0.31902084\n",
      " 0.31813216 0.31729448 0.3165043  0.3157585 ]\n",
      "16 day output [[0.3150545]]\n",
      "17 day input [0.30206452 0.30322581 0.30451613 0.32129032 0.31290323 0.31251613\n",
      " 0.31612903 0.30967742 0.31741935 0.3116129  0.30529032 0.30580645\n",
      " 0.3083871  0.32516129 0.32722581 0.34645161 0.34709677 0.34967742\n",
      " 0.35419355 0.36116129 0.36387097 0.364      0.34748387 0.34\n",
      " 0.34451613 0.3403871  0.33935484 0.32774194 0.34709677 0.34709677\n",
      " 0.34709677 0.36       0.38193548 0.37290323 0.36541935 0.37290323\n",
      " 0.38580645 0.36903226 0.36       0.36       0.35096774 0.35741935\n",
      " 0.35096774 0.35341935 0.36387097 0.35987097 0.35729032 0.3483871\n",
      " 0.35341935 0.35806452 0.36       0.35870968 0.35677419 0.35806452\n",
      " 0.3563871  0.36258065 0.35483871 0.38606452 0.37677419 0.35883871\n",
      " 0.36       0.35354839 0.35393548 0.356      0.35664516 0.35483871\n",
      " 0.35354839 0.33935484 0.33677419 0.3643871  0.34464516 0.35458065\n",
      " 0.35225806 0.35017747 0.34806335 0.34572864 0.34352294 0.34153816\n",
      " 0.33977765 0.33819637 0.33673072 0.33532175 0.33392781 0.33252707\n",
      " 0.33111581 0.32970324 0.32830533 0.32693928 0.32562009 0.32435894\n",
      " 0.3231619  0.32203138 0.32096645 0.31996423 0.31902084 0.31813216\n",
      " 0.31729448 0.3165043  0.3157585  0.31505451]\n",
      "17 day output [[0.3143897]]\n",
      "18 day input [0.30322581 0.30451613 0.32129032 0.31290323 0.31251613 0.31612903\n",
      " 0.30967742 0.31741935 0.3116129  0.30529032 0.30580645 0.3083871\n",
      " 0.32516129 0.32722581 0.34645161 0.34709677 0.34967742 0.35419355\n",
      " 0.36116129 0.36387097 0.364      0.34748387 0.34       0.34451613\n",
      " 0.3403871  0.33935484 0.32774194 0.34709677 0.34709677 0.34709677\n",
      " 0.36       0.38193548 0.37290323 0.36541935 0.37290323 0.38580645\n",
      " 0.36903226 0.36       0.36       0.35096774 0.35741935 0.35096774\n",
      " 0.35341935 0.36387097 0.35987097 0.35729032 0.3483871  0.35341935\n",
      " 0.35806452 0.36       0.35870968 0.35677419 0.35806452 0.3563871\n",
      " 0.36258065 0.35483871 0.38606452 0.37677419 0.35883871 0.36\n",
      " 0.35354839 0.35393548 0.356      0.35664516 0.35483871 0.35354839\n",
      " 0.33935484 0.33677419 0.3643871  0.34464516 0.35458065 0.35225806\n",
      " 0.35017747 0.34806335 0.34572864 0.34352294 0.34153816 0.33977765\n",
      " 0.33819637 0.33673072 0.33532175 0.33392781 0.33252707 0.33111581\n",
      " 0.32970324 0.32830533 0.32693928 0.32562009 0.32435894 0.3231619\n",
      " 0.32203138 0.32096645 0.31996423 0.31902084 0.31813216 0.31729448\n",
      " 0.3165043  0.3157585  0.31505451 0.31438971]\n",
      "18 day output [[0.31376186]]\n",
      "19 day input [0.30451613 0.32129032 0.31290323 0.31251613 0.31612903 0.30967742\n",
      " 0.31741935 0.3116129  0.30529032 0.30580645 0.3083871  0.32516129\n",
      " 0.32722581 0.34645161 0.34709677 0.34967742 0.35419355 0.36116129\n",
      " 0.36387097 0.364      0.34748387 0.34       0.34451613 0.3403871\n",
      " 0.33935484 0.32774194 0.34709677 0.34709677 0.34709677 0.36\n",
      " 0.38193548 0.37290323 0.36541935 0.37290323 0.38580645 0.36903226\n",
      " 0.36       0.36       0.35096774 0.35741935 0.35096774 0.35341935\n",
      " 0.36387097 0.35987097 0.35729032 0.3483871  0.35341935 0.35806452\n",
      " 0.36       0.35870968 0.35677419 0.35806452 0.3563871  0.36258065\n",
      " 0.35483871 0.38606452 0.37677419 0.35883871 0.36       0.35354839\n",
      " 0.35393548 0.356      0.35664516 0.35483871 0.35354839 0.33935484\n",
      " 0.33677419 0.3643871  0.34464516 0.35458065 0.35225806 0.35017747\n",
      " 0.34806335 0.34572864 0.34352294 0.34153816 0.33977765 0.33819637\n",
      " 0.33673072 0.33532175 0.33392781 0.33252707 0.33111581 0.32970324\n",
      " 0.32830533 0.32693928 0.32562009 0.32435894 0.3231619  0.32203138\n",
      " 0.32096645 0.31996423 0.31902084 0.31813216 0.31729448 0.3165043\n",
      " 0.3157585  0.31505451 0.31438971 0.31376186]\n",
      "19 day output [[0.3131688]]\n",
      "20 day input [0.32129032 0.31290323 0.31251613 0.31612903 0.30967742 0.31741935\n",
      " 0.3116129  0.30529032 0.30580645 0.3083871  0.32516129 0.32722581\n",
      " 0.34645161 0.34709677 0.34967742 0.35419355 0.36116129 0.36387097\n",
      " 0.364      0.34748387 0.34       0.34451613 0.3403871  0.33935484\n",
      " 0.32774194 0.34709677 0.34709677 0.34709677 0.36       0.38193548\n",
      " 0.37290323 0.36541935 0.37290323 0.38580645 0.36903226 0.36\n",
      " 0.36       0.35096774 0.35741935 0.35096774 0.35341935 0.36387097\n",
      " 0.35987097 0.35729032 0.3483871  0.35341935 0.35806452 0.36\n",
      " 0.35870968 0.35677419 0.35806452 0.3563871  0.36258065 0.35483871\n",
      " 0.38606452 0.37677419 0.35883871 0.36       0.35354839 0.35393548\n",
      " 0.356      0.35664516 0.35483871 0.35354839 0.33935484 0.33677419\n",
      " 0.3643871  0.34464516 0.35458065 0.35225806 0.35017747 0.34806335\n",
      " 0.34572864 0.34352294 0.34153816 0.33977765 0.33819637 0.33673072\n",
      " 0.33532175 0.33392781 0.33252707 0.33111581 0.32970324 0.32830533\n",
      " 0.32693928 0.32562009 0.32435894 0.3231619  0.32203138 0.32096645\n",
      " 0.31996423 0.31902084 0.31813216 0.31729448 0.3165043  0.3157585\n",
      " 0.31505451 0.31438971 0.31376186 0.31316879]\n",
      "20 day output [[0.3126083]]\n",
      "21 day input [0.31290323 0.31251613 0.31612903 0.30967742 0.31741935 0.3116129\n",
      " 0.30529032 0.30580645 0.3083871  0.32516129 0.32722581 0.34645161\n",
      " 0.34709677 0.34967742 0.35419355 0.36116129 0.36387097 0.364\n",
      " 0.34748387 0.34       0.34451613 0.3403871  0.33935484 0.32774194\n",
      " 0.34709677 0.34709677 0.34709677 0.36       0.38193548 0.37290323\n",
      " 0.36541935 0.37290323 0.38580645 0.36903226 0.36       0.36\n",
      " 0.35096774 0.35741935 0.35096774 0.35341935 0.36387097 0.35987097\n",
      " 0.35729032 0.3483871  0.35341935 0.35806452 0.36       0.35870968\n",
      " 0.35677419 0.35806452 0.3563871  0.36258065 0.35483871 0.38606452\n",
      " 0.37677419 0.35883871 0.36       0.35354839 0.35393548 0.356\n",
      " 0.35664516 0.35483871 0.35354839 0.33935484 0.33677419 0.3643871\n",
      " 0.34464516 0.35458065 0.35225806 0.35017747 0.34806335 0.34572864\n",
      " 0.34352294 0.34153816 0.33977765 0.33819637 0.33673072 0.33532175\n",
      " 0.33392781 0.33252707 0.33111581 0.32970324 0.32830533 0.32693928\n",
      " 0.32562009 0.32435894 0.3231619  0.32203138 0.32096645 0.31996423\n",
      " 0.31902084 0.31813216 0.31729448 0.3165043  0.3157585  0.31505451\n",
      " 0.31438971 0.31376186 0.31316879 0.3126083 ]\n",
      "21 day output [[0.31207818]]\n",
      "22 day input [0.31251613 0.31612903 0.30967742 0.31741935 0.3116129  0.30529032\n",
      " 0.30580645 0.3083871  0.32516129 0.32722581 0.34645161 0.34709677\n",
      " 0.34967742 0.35419355 0.36116129 0.36387097 0.364      0.34748387\n",
      " 0.34       0.34451613 0.3403871  0.33935484 0.32774194 0.34709677\n",
      " 0.34709677 0.34709677 0.36       0.38193548 0.37290323 0.36541935\n",
      " 0.37290323 0.38580645 0.36903226 0.36       0.36       0.35096774\n",
      " 0.35741935 0.35096774 0.35341935 0.36387097 0.35987097 0.35729032\n",
      " 0.3483871  0.35341935 0.35806452 0.36       0.35870968 0.35677419\n",
      " 0.35806452 0.3563871  0.36258065 0.35483871 0.38606452 0.37677419\n",
      " 0.35883871 0.36       0.35354839 0.35393548 0.356      0.35664516\n",
      " 0.35483871 0.35354839 0.33935484 0.33677419 0.3643871  0.34464516\n",
      " 0.35458065 0.35225806 0.35017747 0.34806335 0.34572864 0.34352294\n",
      " 0.34153816 0.33977765 0.33819637 0.33673072 0.33532175 0.33392781\n",
      " 0.33252707 0.33111581 0.32970324 0.32830533 0.32693928 0.32562009\n",
      " 0.32435894 0.3231619  0.32203138 0.32096645 0.31996423 0.31902084\n",
      " 0.31813216 0.31729448 0.3165043  0.3157585  0.31505451 0.31438971\n",
      " 0.31376186 0.31316879 0.3126083  0.31207818]\n",
      "22 day output [[0.3115764]]\n",
      "23 day input [0.31612903 0.30967742 0.31741935 0.3116129  0.30529032 0.30580645\n",
      " 0.3083871  0.32516129 0.32722581 0.34645161 0.34709677 0.34967742\n",
      " 0.35419355 0.36116129 0.36387097 0.364      0.34748387 0.34\n",
      " 0.34451613 0.3403871  0.33935484 0.32774194 0.34709677 0.34709677\n",
      " 0.34709677 0.36       0.38193548 0.37290323 0.36541935 0.37290323\n",
      " 0.38580645 0.36903226 0.36       0.36       0.35096774 0.35741935\n",
      " 0.35096774 0.35341935 0.36387097 0.35987097 0.35729032 0.3483871\n",
      " 0.35341935 0.35806452 0.36       0.35870968 0.35677419 0.35806452\n",
      " 0.3563871  0.36258065 0.35483871 0.38606452 0.37677419 0.35883871\n",
      " 0.36       0.35354839 0.35393548 0.356      0.35664516 0.35483871\n",
      " 0.35354839 0.33935484 0.33677419 0.3643871  0.34464516 0.35458065\n",
      " 0.35225806 0.35017747 0.34806335 0.34572864 0.34352294 0.34153816\n",
      " 0.33977765 0.33819637 0.33673072 0.33532175 0.33392781 0.33252707\n",
      " 0.33111581 0.32970324 0.32830533 0.32693928 0.32562009 0.32435894\n",
      " 0.3231619  0.32203138 0.32096645 0.31996423 0.31902084 0.31813216\n",
      " 0.31729448 0.3165043  0.3157585  0.31505451 0.31438971 0.31376186\n",
      " 0.31316879 0.3126083  0.31207818 0.3115764 ]\n",
      "23 day output [[0.3111009]]\n",
      "24 day input [0.30967742 0.31741935 0.3116129  0.30529032 0.30580645 0.3083871\n",
      " 0.32516129 0.32722581 0.34645161 0.34709677 0.34967742 0.35419355\n",
      " 0.36116129 0.36387097 0.364      0.34748387 0.34       0.34451613\n",
      " 0.3403871  0.33935484 0.32774194 0.34709677 0.34709677 0.34709677\n",
      " 0.36       0.38193548 0.37290323 0.36541935 0.37290323 0.38580645\n",
      " 0.36903226 0.36       0.36       0.35096774 0.35741935 0.35096774\n",
      " 0.35341935 0.36387097 0.35987097 0.35729032 0.3483871  0.35341935\n",
      " 0.35806452 0.36       0.35870968 0.35677419 0.35806452 0.3563871\n",
      " 0.36258065 0.35483871 0.38606452 0.37677419 0.35883871 0.36\n",
      " 0.35354839 0.35393548 0.356      0.35664516 0.35483871 0.35354839\n",
      " 0.33935484 0.33677419 0.3643871  0.34464516 0.35458065 0.35225806\n",
      " 0.35017747 0.34806335 0.34572864 0.34352294 0.34153816 0.33977765\n",
      " 0.33819637 0.33673072 0.33532175 0.33392781 0.33252707 0.33111581\n",
      " 0.32970324 0.32830533 0.32693928 0.32562009 0.32435894 0.3231619\n",
      " 0.32203138 0.32096645 0.31996423 0.31902084 0.31813216 0.31729448\n",
      " 0.3165043  0.3157585  0.31505451 0.31438971 0.31376186 0.31316879\n",
      " 0.3126083  0.31207818 0.3115764  0.3111009 ]\n",
      "24 day output [[0.31064996]]\n",
      "25 day input [0.31741935 0.3116129  0.30529032 0.30580645 0.3083871  0.32516129\n",
      " 0.32722581 0.34645161 0.34709677 0.34967742 0.35419355 0.36116129\n",
      " 0.36387097 0.364      0.34748387 0.34       0.34451613 0.3403871\n",
      " 0.33935484 0.32774194 0.34709677 0.34709677 0.34709677 0.36\n",
      " 0.38193548 0.37290323 0.36541935 0.37290323 0.38580645 0.36903226\n",
      " 0.36       0.36       0.35096774 0.35741935 0.35096774 0.35341935\n",
      " 0.36387097 0.35987097 0.35729032 0.3483871  0.35341935 0.35806452\n",
      " 0.36       0.35870968 0.35677419 0.35806452 0.3563871  0.36258065\n",
      " 0.35483871 0.38606452 0.37677419 0.35883871 0.36       0.35354839\n",
      " 0.35393548 0.356      0.35664516 0.35483871 0.35354839 0.33935484\n",
      " 0.33677419 0.3643871  0.34464516 0.35458065 0.35225806 0.35017747\n",
      " 0.34806335 0.34572864 0.34352294 0.34153816 0.33977765 0.33819637\n",
      " 0.33673072 0.33532175 0.33392781 0.33252707 0.33111581 0.32970324\n",
      " 0.32830533 0.32693928 0.32562009 0.32435894 0.3231619  0.32203138\n",
      " 0.32096645 0.31996423 0.31902084 0.31813216 0.31729448 0.3165043\n",
      " 0.3157585  0.31505451 0.31438971 0.31376186 0.31316879 0.3126083\n",
      " 0.31207818 0.3115764  0.3111009  0.31064996]\n",
      "25 day output [[0.3102217]]\n",
      "26 day input [0.3116129  0.30529032 0.30580645 0.3083871  0.32516129 0.32722581\n",
      " 0.34645161 0.34709677 0.34967742 0.35419355 0.36116129 0.36387097\n",
      " 0.364      0.34748387 0.34       0.34451613 0.3403871  0.33935484\n",
      " 0.32774194 0.34709677 0.34709677 0.34709677 0.36       0.38193548\n",
      " 0.37290323 0.36541935 0.37290323 0.38580645 0.36903226 0.36\n",
      " 0.36       0.35096774 0.35741935 0.35096774 0.35341935 0.36387097\n",
      " 0.35987097 0.35729032 0.3483871  0.35341935 0.35806452 0.36\n",
      " 0.35870968 0.35677419 0.35806452 0.3563871  0.36258065 0.35483871\n",
      " 0.38606452 0.37677419 0.35883871 0.36       0.35354839 0.35393548\n",
      " 0.356      0.35664516 0.35483871 0.35354839 0.33935484 0.33677419\n",
      " 0.3643871  0.34464516 0.35458065 0.35225806 0.35017747 0.34806335\n",
      " 0.34572864 0.34352294 0.34153816 0.33977765 0.33819637 0.33673072\n",
      " 0.33532175 0.33392781 0.33252707 0.33111581 0.32970324 0.32830533\n",
      " 0.32693928 0.32562009 0.32435894 0.3231619  0.32203138 0.32096645\n",
      " 0.31996423 0.31902084 0.31813216 0.31729448 0.3165043  0.3157585\n",
      " 0.31505451 0.31438971 0.31376186 0.31316879 0.3126083  0.31207818\n",
      " 0.3115764  0.3111009  0.31064996 0.3102217 ]\n",
      "26 day output [[0.3098146]]\n",
      "27 day input [0.30529032 0.30580645 0.3083871  0.32516129 0.32722581 0.34645161\n",
      " 0.34709677 0.34967742 0.35419355 0.36116129 0.36387097 0.364\n",
      " 0.34748387 0.34       0.34451613 0.3403871  0.33935484 0.32774194\n",
      " 0.34709677 0.34709677 0.34709677 0.36       0.38193548 0.37290323\n",
      " 0.36541935 0.37290323 0.38580645 0.36903226 0.36       0.36\n",
      " 0.35096774 0.35741935 0.35096774 0.35341935 0.36387097 0.35987097\n",
      " 0.35729032 0.3483871  0.35341935 0.35806452 0.36       0.35870968\n",
      " 0.35677419 0.35806452 0.3563871  0.36258065 0.35483871 0.38606452\n",
      " 0.37677419 0.35883871 0.36       0.35354839 0.35393548 0.356\n",
      " 0.35664516 0.35483871 0.35354839 0.33935484 0.33677419 0.3643871\n",
      " 0.34464516 0.35458065 0.35225806 0.35017747 0.34806335 0.34572864\n",
      " 0.34352294 0.34153816 0.33977765 0.33819637 0.33673072 0.33532175\n",
      " 0.33392781 0.33252707 0.33111581 0.32970324 0.32830533 0.32693928\n",
      " 0.32562009 0.32435894 0.3231619  0.32203138 0.32096645 0.31996423\n",
      " 0.31902084 0.31813216 0.31729448 0.3165043  0.3157585  0.31505451\n",
      " 0.31438971 0.31376186 0.31316879 0.3126083  0.31207818 0.3115764\n",
      " 0.3111009  0.31064996 0.3102217  0.3098146 ]\n",
      "27 day output [[0.3094272]]\n",
      "28 day input [0.30580645 0.3083871  0.32516129 0.32722581 0.34645161 0.34709677\n",
      " 0.34967742 0.35419355 0.36116129 0.36387097 0.364      0.34748387\n",
      " 0.34       0.34451613 0.3403871  0.33935484 0.32774194 0.34709677\n",
      " 0.34709677 0.34709677 0.36       0.38193548 0.37290323 0.36541935\n",
      " 0.37290323 0.38580645 0.36903226 0.36       0.36       0.35096774\n",
      " 0.35741935 0.35096774 0.35341935 0.36387097 0.35987097 0.35729032\n",
      " 0.3483871  0.35341935 0.35806452 0.36       0.35870968 0.35677419\n",
      " 0.35806452 0.3563871  0.36258065 0.35483871 0.38606452 0.37677419\n",
      " 0.35883871 0.36       0.35354839 0.35393548 0.356      0.35664516\n",
      " 0.35483871 0.35354839 0.33935484 0.33677419 0.3643871  0.34464516\n",
      " 0.35458065 0.35225806 0.35017747 0.34806335 0.34572864 0.34352294\n",
      " 0.34153816 0.33977765 0.33819637 0.33673072 0.33532175 0.33392781\n",
      " 0.33252707 0.33111581 0.32970324 0.32830533 0.32693928 0.32562009\n",
      " 0.32435894 0.3231619  0.32203138 0.32096645 0.31996423 0.31902084\n",
      " 0.31813216 0.31729448 0.3165043  0.3157585  0.31505451 0.31438971\n",
      " 0.31376186 0.31316879 0.3126083  0.31207818 0.3115764  0.3111009\n",
      " 0.31064996 0.3102217  0.3098146  0.3094272 ]\n",
      "28 day output [[0.30905834]]\n",
      "29 day input [0.3083871  0.32516129 0.32722581 0.34645161 0.34709677 0.34967742\n",
      " 0.35419355 0.36116129 0.36387097 0.364      0.34748387 0.34\n",
      " 0.34451613 0.3403871  0.33935484 0.32774194 0.34709677 0.34709677\n",
      " 0.34709677 0.36       0.38193548 0.37290323 0.36541935 0.37290323\n",
      " 0.38580645 0.36903226 0.36       0.36       0.35096774 0.35741935\n",
      " 0.35096774 0.35341935 0.36387097 0.35987097 0.35729032 0.3483871\n",
      " 0.35341935 0.35806452 0.36       0.35870968 0.35677419 0.35806452\n",
      " 0.3563871  0.36258065 0.35483871 0.38606452 0.37677419 0.35883871\n",
      " 0.36       0.35354839 0.35393548 0.356      0.35664516 0.35483871\n",
      " 0.35354839 0.33935484 0.33677419 0.3643871  0.34464516 0.35458065\n",
      " 0.35225806 0.35017747 0.34806335 0.34572864 0.34352294 0.34153816\n",
      " 0.33977765 0.33819637 0.33673072 0.33532175 0.33392781 0.33252707\n",
      " 0.33111581 0.32970324 0.32830533 0.32693928 0.32562009 0.32435894\n",
      " 0.3231619  0.32203138 0.32096645 0.31996423 0.31902084 0.31813216\n",
      " 0.31729448 0.3165043  0.3157585  0.31505451 0.31438971 0.31376186\n",
      " 0.31316879 0.3126083  0.31207818 0.3115764  0.3111009  0.31064996\n",
      " 0.3102217  0.3098146  0.3094272  0.30905834]\n",
      "29 day output [[0.30870694]]\n",
      "[[0.3325270712375641], [0.33111581206321716], [0.3297032415866852], [0.32830533385276794], [0.32693928480148315], [0.3256200850009918], [0.3243589401245117], [0.32316190004348755], [0.3220313787460327], [0.3209664523601532], [0.3199642300605774], [0.3190208375453949], [0.3181321620941162], [0.31729447841644287], [0.3165042996406555], [0.31575849652290344], [0.3150545060634613], [0.314389705657959], [0.3137618601322174], [0.31316879391670227], [0.3126083016395569], [0.31207817792892456], [0.31157639622688293], [0.31110090017318726], [0.31064996123313904], [0.31022170186042786], [0.30981460213661194], [0.3094272017478943], [0.3090583384037018], [0.30870693922042847]]\n"
     ]
    }
   ],
   "source": [
    "# demonstrate prediction for next 10 days\n",
    "from numpy import array\n",
    "\n",
    "lst_output=[]\n",
    "n_steps=100\n",
    "i=0\n",
    "while(i<30):\n",
    "    \n",
    "    if(len(temp_input)>100):\n",
    "        #print(temp_input)\n",
    "        x_input=np.array(temp_input[1:])\n",
    "        print(\"{} day input {}\".format(i,x_input))\n",
    "        x_input=x_input.reshape(1,-1)\n",
    "        x_input = x_input.reshape((1, n_steps, 1))\n",
    "        #print(x_input)\n",
    "        yhat = model.predict(x_input, verbose=0)\n",
    "        print(\"{} day output {}\".format(i,yhat))\n",
    "        temp_input.extend(yhat[0].tolist())\n",
    "        temp_input=temp_input[1:]\n",
    "        #print(temp_input)\n",
    "        lst_output.extend(yhat.tolist())\n",
    "        i=i+1\n",
    "    else:\n",
    "        x_input = x_input.reshape((1, n_steps,1))\n",
    "        yhat = model.predict(x_input, verbose=0)\n",
    "        print(yhat[0])\n",
    "        temp_input.extend(yhat[0].tolist())\n",
    "        print(len(temp_input))\n",
    "        lst_output.extend(yhat.tolist())\n",
    "        i=i+1\n",
    "    \n",
    "\n",
    "print(lst_output)"
   ]
  },
  {
   "cell_type": "code",
   "execution_count": 53,
   "id": "22e3b074-f6e7-4a59-9661-8d16febc6175",
   "metadata": {},
   "outputs": [],
   "source": [
    "day_new=np.arange(1,101)\n",
    "day_pred=np.arange(101,131)"
   ]
  },
  {
   "cell_type": "code",
   "execution_count": 54,
   "id": "658aa192-161e-4dae-a32d-9dc475ffdaa5",
   "metadata": {},
   "outputs": [],
   "source": [
    "import matplotlib.pyplot as plt\n"
   ]
  },
  {
   "cell_type": "code",
   "execution_count": 55,
   "id": "e8526960-9119-4ec3-8913-7e4b1403838b",
   "metadata": {},
   "outputs": [
    {
     "data": {
      "text/plain": [
       "2033"
      ]
     },
     "execution_count": 55,
     "metadata": {},
     "output_type": "execute_result"
    }
   ],
   "source": [
    "len(df1)\n"
   ]
  },
  {
   "cell_type": "code",
   "execution_count": 58,
   "id": "f35bb227-334d-41f6-bfb3-fcddcd43d477",
   "metadata": {},
   "outputs": [
    {
     "data": {
      "text/plain": [
       "[<matplotlib.lines.Line2D at 0x7967ff90f200>]"
      ]
     },
     "execution_count": 58,
     "metadata": {},
     "output_type": "execute_result"
    },
    {
     "data": {
      "image/png": "[encoded data removed]",
      "text/plain": [
       "<Figure size 640x480 with 1 Axes>"
      ]
     },
     "metadata": {},
     "output_type": "display_data"
    }
   ],
   "source": [
    "plt.plot(day_new, scaler.inverse_transform(df1[len(df1)-100:]))\n",
    "plt.plot(day_pred, scaler.inverse_transform(np.array(lst_output))) "
   ]
  },
  {
   "cell_type": "code",
   "execution_count": 59,
   "id": "dfa35377-6bfa-40ca-827d-0068e0bb1450",
   "metadata": {},
   "outputs": [
    {
     "data": {
      "text/plain": [
       "[<matplotlib.lines.Line2D at 0x7967ff9b59d0>]"
      ]
     },
     "execution_count": 59,
     "metadata": {},
     "output_type": "execute_result"
    },
    {
     "data": {
      "image/png": "[encoded data removed]",
      "text/plain": [
       "<Figure size 640x480 with 1 Axes>"
      ]
     },
     "metadata": {},
     "output_type": "display_data"
    }
   ],
   "source": [
    "df3=df1.tolist()\n",
    "df3.extend(lst_output)\n",
    "plt.plot(df3[1200:])"
   ]
  },
  {
   "cell_type": "code",
   "execution_count": null,
   "id": "ca481fd6-74ce-455a-88d0-553ae494a8fe",
   "metadata": {},
   "outputs": [],
   "source": []
  }
 ],
 "metadata": {
  "kernelspec": {
   "display_name": "python wwenv",
   "language": "python",
   "name": "myenv"
  },
  "language_info": {
   "codemirror_mode": {
    "name": "ipython",
    "version": 3
   },
   "file_extension": ".py",
   "mimetype": "text/x-python",
   "name": "python",
   "nbconvert_exporter": "python",
   "pygments_lexer": "ipython3",
   "version": "3.12.4"
  }
 },
 "nbformat": 4,
 "nbformat_minor": 5
}
